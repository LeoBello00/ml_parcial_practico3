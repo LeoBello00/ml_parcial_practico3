{
 "cells": [
  {
   "cell_type": "markdown",
   "metadata": {},
   "source": [
    "# Preprocessing fraud dataset"
   ]
  },
  {
   "cell_type": "code",
   "execution_count": 16,
   "metadata": {},
   "outputs": [
    {
     "data": {
      "text/html": [
       "<div>\n",
       "<style scoped>\n",
       "    .dataframe tbody tr th:only-of-type {\n",
       "        vertical-align: middle;\n",
       "    }\n",
       "\n",
       "    .dataframe tbody tr th {\n",
       "        vertical-align: top;\n",
       "    }\n",
       "\n",
       "    .dataframe thead th {\n",
       "        text-align: right;\n",
       "    }\n",
       "</style>\n",
       "<table border=\"1\" class=\"dataframe\">\n",
       "  <thead>\n",
       "    <tr style=\"text-align: right;\">\n",
       "      <th></th>\n",
       "      <th>TransactionID</th>\n",
       "      <th>isFraud</th>\n",
       "      <th>TransactionDT</th>\n",
       "      <th>TransactionAmt</th>\n",
       "      <th>ProductCD</th>\n",
       "      <th>card1</th>\n",
       "      <th>card2</th>\n",
       "      <th>card3</th>\n",
       "      <th>card4</th>\n",
       "      <th>card5</th>\n",
       "      <th>...</th>\n",
       "      <th>id_31</th>\n",
       "      <th>id_32</th>\n",
       "      <th>id_33</th>\n",
       "      <th>id_34</th>\n",
       "      <th>id_35</th>\n",
       "      <th>id_36</th>\n",
       "      <th>id_37</th>\n",
       "      <th>id_38</th>\n",
       "      <th>DeviceType</th>\n",
       "      <th>DeviceInfo</th>\n",
       "    </tr>\n",
       "  </thead>\n",
       "  <tbody>\n",
       "    <tr>\n",
       "      <th>0</th>\n",
       "      <td>2987000</td>\n",
       "      <td>0</td>\n",
       "      <td>86400</td>\n",
       "      <td>68.5</td>\n",
       "      <td>W</td>\n",
       "      <td>13926</td>\n",
       "      <td>NaN</td>\n",
       "      <td>150.0</td>\n",
       "      <td>discover</td>\n",
       "      <td>142.0</td>\n",
       "      <td>...</td>\n",
       "      <td>NaN</td>\n",
       "      <td>NaN</td>\n",
       "      <td>NaN</td>\n",
       "      <td>NaN</td>\n",
       "      <td>NaN</td>\n",
       "      <td>NaN</td>\n",
       "      <td>NaN</td>\n",
       "      <td>NaN</td>\n",
       "      <td>NaN</td>\n",
       "      <td>NaN</td>\n",
       "    </tr>\n",
       "    <tr>\n",
       "      <th>1</th>\n",
       "      <td>2987001</td>\n",
       "      <td>0</td>\n",
       "      <td>86401</td>\n",
       "      <td>29.0</td>\n",
       "      <td>W</td>\n",
       "      <td>2755</td>\n",
       "      <td>404.0</td>\n",
       "      <td>150.0</td>\n",
       "      <td>mastercard</td>\n",
       "      <td>102.0</td>\n",
       "      <td>...</td>\n",
       "      <td>NaN</td>\n",
       "      <td>NaN</td>\n",
       "      <td>NaN</td>\n",
       "      <td>NaN</td>\n",
       "      <td>NaN</td>\n",
       "      <td>NaN</td>\n",
       "      <td>NaN</td>\n",
       "      <td>NaN</td>\n",
       "      <td>NaN</td>\n",
       "      <td>NaN</td>\n",
       "    </tr>\n",
       "    <tr>\n",
       "      <th>2</th>\n",
       "      <td>2987002</td>\n",
       "      <td>0</td>\n",
       "      <td>86469</td>\n",
       "      <td>59.0</td>\n",
       "      <td>W</td>\n",
       "      <td>4663</td>\n",
       "      <td>490.0</td>\n",
       "      <td>150.0</td>\n",
       "      <td>visa</td>\n",
       "      <td>166.0</td>\n",
       "      <td>...</td>\n",
       "      <td>NaN</td>\n",
       "      <td>NaN</td>\n",
       "      <td>NaN</td>\n",
       "      <td>NaN</td>\n",
       "      <td>NaN</td>\n",
       "      <td>NaN</td>\n",
       "      <td>NaN</td>\n",
       "      <td>NaN</td>\n",
       "      <td>NaN</td>\n",
       "      <td>NaN</td>\n",
       "    </tr>\n",
       "    <tr>\n",
       "      <th>3</th>\n",
       "      <td>2987003</td>\n",
       "      <td>0</td>\n",
       "      <td>86499</td>\n",
       "      <td>50.0</td>\n",
       "      <td>W</td>\n",
       "      <td>18132</td>\n",
       "      <td>567.0</td>\n",
       "      <td>150.0</td>\n",
       "      <td>mastercard</td>\n",
       "      <td>117.0</td>\n",
       "      <td>...</td>\n",
       "      <td>NaN</td>\n",
       "      <td>NaN</td>\n",
       "      <td>NaN</td>\n",
       "      <td>NaN</td>\n",
       "      <td>NaN</td>\n",
       "      <td>NaN</td>\n",
       "      <td>NaN</td>\n",
       "      <td>NaN</td>\n",
       "      <td>NaN</td>\n",
       "      <td>NaN</td>\n",
       "    </tr>\n",
       "    <tr>\n",
       "      <th>4</th>\n",
       "      <td>2987004</td>\n",
       "      <td>0</td>\n",
       "      <td>86506</td>\n",
       "      <td>50.0</td>\n",
       "      <td>H</td>\n",
       "      <td>4497</td>\n",
       "      <td>514.0</td>\n",
       "      <td>150.0</td>\n",
       "      <td>mastercard</td>\n",
       "      <td>102.0</td>\n",
       "      <td>...</td>\n",
       "      <td>samsung browser 6.2</td>\n",
       "      <td>32.0</td>\n",
       "      <td>2220x1080</td>\n",
       "      <td>match_status:2</td>\n",
       "      <td>T</td>\n",
       "      <td>F</td>\n",
       "      <td>T</td>\n",
       "      <td>T</td>\n",
       "      <td>mobile</td>\n",
       "      <td>SAMSUNG SM-G892A Build/NRD90M</td>\n",
       "    </tr>\n",
       "    <tr>\n",
       "      <th>5</th>\n",
       "      <td>2987005</td>\n",
       "      <td>0</td>\n",
       "      <td>86510</td>\n",
       "      <td>49.0</td>\n",
       "      <td>W</td>\n",
       "      <td>5937</td>\n",
       "      <td>555.0</td>\n",
       "      <td>150.0</td>\n",
       "      <td>visa</td>\n",
       "      <td>226.0</td>\n",
       "      <td>...</td>\n",
       "      <td>NaN</td>\n",
       "      <td>NaN</td>\n",
       "      <td>NaN</td>\n",
       "      <td>NaN</td>\n",
       "      <td>NaN</td>\n",
       "      <td>NaN</td>\n",
       "      <td>NaN</td>\n",
       "      <td>NaN</td>\n",
       "      <td>NaN</td>\n",
       "      <td>NaN</td>\n",
       "    </tr>\n",
       "    <tr>\n",
       "      <th>6</th>\n",
       "      <td>2987006</td>\n",
       "      <td>0</td>\n",
       "      <td>86522</td>\n",
       "      <td>159.0</td>\n",
       "      <td>W</td>\n",
       "      <td>12308</td>\n",
       "      <td>360.0</td>\n",
       "      <td>150.0</td>\n",
       "      <td>visa</td>\n",
       "      <td>166.0</td>\n",
       "      <td>...</td>\n",
       "      <td>NaN</td>\n",
       "      <td>NaN</td>\n",
       "      <td>NaN</td>\n",
       "      <td>NaN</td>\n",
       "      <td>NaN</td>\n",
       "      <td>NaN</td>\n",
       "      <td>NaN</td>\n",
       "      <td>NaN</td>\n",
       "      <td>NaN</td>\n",
       "      <td>NaN</td>\n",
       "    </tr>\n",
       "    <tr>\n",
       "      <th>7</th>\n",
       "      <td>2987007</td>\n",
       "      <td>0</td>\n",
       "      <td>86529</td>\n",
       "      <td>422.5</td>\n",
       "      <td>W</td>\n",
       "      <td>12695</td>\n",
       "      <td>490.0</td>\n",
       "      <td>150.0</td>\n",
       "      <td>visa</td>\n",
       "      <td>226.0</td>\n",
       "      <td>...</td>\n",
       "      <td>NaN</td>\n",
       "      <td>NaN</td>\n",
       "      <td>NaN</td>\n",
       "      <td>NaN</td>\n",
       "      <td>NaN</td>\n",
       "      <td>NaN</td>\n",
       "      <td>NaN</td>\n",
       "      <td>NaN</td>\n",
       "      <td>NaN</td>\n",
       "      <td>NaN</td>\n",
       "    </tr>\n",
       "    <tr>\n",
       "      <th>8</th>\n",
       "      <td>2987008</td>\n",
       "      <td>0</td>\n",
       "      <td>86535</td>\n",
       "      <td>15.0</td>\n",
       "      <td>H</td>\n",
       "      <td>2803</td>\n",
       "      <td>100.0</td>\n",
       "      <td>150.0</td>\n",
       "      <td>visa</td>\n",
       "      <td>226.0</td>\n",
       "      <td>...</td>\n",
       "      <td>mobile safari 11.0</td>\n",
       "      <td>32.0</td>\n",
       "      <td>1334x750</td>\n",
       "      <td>match_status:1</td>\n",
       "      <td>T</td>\n",
       "      <td>F</td>\n",
       "      <td>F</td>\n",
       "      <td>T</td>\n",
       "      <td>mobile</td>\n",
       "      <td>iOS Device</td>\n",
       "    </tr>\n",
       "    <tr>\n",
       "      <th>9</th>\n",
       "      <td>2987009</td>\n",
       "      <td>0</td>\n",
       "      <td>86536</td>\n",
       "      <td>117.0</td>\n",
       "      <td>W</td>\n",
       "      <td>17399</td>\n",
       "      <td>111.0</td>\n",
       "      <td>150.0</td>\n",
       "      <td>mastercard</td>\n",
       "      <td>224.0</td>\n",
       "      <td>...</td>\n",
       "      <td>NaN</td>\n",
       "      <td>NaN</td>\n",
       "      <td>NaN</td>\n",
       "      <td>NaN</td>\n",
       "      <td>NaN</td>\n",
       "      <td>NaN</td>\n",
       "      <td>NaN</td>\n",
       "      <td>NaN</td>\n",
       "      <td>NaN</td>\n",
       "      <td>NaN</td>\n",
       "    </tr>\n",
       "  </tbody>\n",
       "</table>\n",
       "<p>10 rows × 434 columns</p>\n",
       "</div>"
      ],
      "text/plain": [
       "   TransactionID  isFraud  TransactionDT  TransactionAmt ProductCD  card1  \\\n",
       "0        2987000        0          86400            68.5         W  13926   \n",
       "1        2987001        0          86401            29.0         W   2755   \n",
       "2        2987002        0          86469            59.0         W   4663   \n",
       "3        2987003        0          86499            50.0         W  18132   \n",
       "4        2987004        0          86506            50.0         H   4497   \n",
       "5        2987005        0          86510            49.0         W   5937   \n",
       "6        2987006        0          86522           159.0         W  12308   \n",
       "7        2987007        0          86529           422.5         W  12695   \n",
       "8        2987008        0          86535            15.0         H   2803   \n",
       "9        2987009        0          86536           117.0         W  17399   \n",
       "\n",
       "   card2  card3       card4  card5  ...                id_31  id_32  \\\n",
       "0    NaN  150.0    discover  142.0  ...                  NaN    NaN   \n",
       "1  404.0  150.0  mastercard  102.0  ...                  NaN    NaN   \n",
       "2  490.0  150.0        visa  166.0  ...                  NaN    NaN   \n",
       "3  567.0  150.0  mastercard  117.0  ...                  NaN    NaN   \n",
       "4  514.0  150.0  mastercard  102.0  ...  samsung browser 6.2   32.0   \n",
       "5  555.0  150.0        visa  226.0  ...                  NaN    NaN   \n",
       "6  360.0  150.0        visa  166.0  ...                  NaN    NaN   \n",
       "7  490.0  150.0        visa  226.0  ...                  NaN    NaN   \n",
       "8  100.0  150.0        visa  226.0  ...   mobile safari 11.0   32.0   \n",
       "9  111.0  150.0  mastercard  224.0  ...                  NaN    NaN   \n",
       "\n",
       "       id_33           id_34  id_35 id_36 id_37  id_38  DeviceType  \\\n",
       "0        NaN             NaN    NaN   NaN   NaN    NaN         NaN   \n",
       "1        NaN             NaN    NaN   NaN   NaN    NaN         NaN   \n",
       "2        NaN             NaN    NaN   NaN   NaN    NaN         NaN   \n",
       "3        NaN             NaN    NaN   NaN   NaN    NaN         NaN   \n",
       "4  2220x1080  match_status:2      T     F     T      T      mobile   \n",
       "5        NaN             NaN    NaN   NaN   NaN    NaN         NaN   \n",
       "6        NaN             NaN    NaN   NaN   NaN    NaN         NaN   \n",
       "7        NaN             NaN    NaN   NaN   NaN    NaN         NaN   \n",
       "8   1334x750  match_status:1      T     F     F      T      mobile   \n",
       "9        NaN             NaN    NaN   NaN   NaN    NaN         NaN   \n",
       "\n",
       "                      DeviceInfo  \n",
       "0                            NaN  \n",
       "1                            NaN  \n",
       "2                            NaN  \n",
       "3                            NaN  \n",
       "4  SAMSUNG SM-G892A Build/NRD90M  \n",
       "5                            NaN  \n",
       "6                            NaN  \n",
       "7                            NaN  \n",
       "8                     iOS Device  \n",
       "9                            NaN  \n",
       "\n",
       "[10 rows x 434 columns]"
      ]
     },
     "execution_count": 16,
     "metadata": {},
     "output_type": "execute_result"
    }
   ],
   "source": [
    "import pandas as pd\n",
    "\n",
    "df_fraud = pd.read_csv('data/data_fraud.csv')\n",
    "df_fraud.head(10)"
   ]
  },
  {
   "cell_type": "code",
   "execution_count": 17,
   "metadata": {},
   "outputs": [
    {
     "data": {
      "text/plain": [
       "(590540, 434)"
      ]
     },
     "execution_count": 17,
     "metadata": {},
     "output_type": "execute_result"
    }
   ],
   "source": [
    "df_fraud.shape"
   ]
  },
  {
   "cell_type": "markdown",
   "metadata": {},
   "source": [
    "We have of lot of columns so we have to reduce the dimension"
   ]
  },
  {
   "cell_type": "code",
   "execution_count": 19,
   "metadata": {},
   "outputs": [],
   "source": [
    "df_fraud.drop(columns=['TransactionID', 'TransactionDT'], inplace=True)"
   ]
  },
  {
   "cell_type": "code",
   "execution_count": 20,
   "metadata": {},
   "outputs": [
    {
     "name": "stdout",
     "output_type": "stream",
     "text": [
      "<class 'pandas.core.frame.DataFrame'>\n",
      "RangeIndex: 590540 entries, 0 to 590539\n",
      "Columns: 432 entries, isFraud to DeviceInfo\n",
      "dtypes: float64(399), int64(2), object(31)\n",
      "memory usage: 1.9+ GB\n"
     ]
    }
   ],
   "source": [
    "df_fraud.info()"
   ]
  },
  {
   "cell_type": "markdown",
   "metadata": {},
   "source": [
    "We have a lot of object columns, which we will need to convert to numerical columns."
   ]
  },
  {
   "cell_type": "code",
   "execution_count": 21,
   "metadata": {},
   "outputs": [
    {
     "name": "stdout",
     "output_type": "stream",
     "text": [
      "Missing values: 115523073 (45.3%)\n"
     ]
    }
   ],
   "source": [
    "nb_missing_values = df_fraud.isnull().sum().sum()\n",
    "percentage_missing_values = round(100*nb_missing_values / (df_fraud.shape[0] * df_fraud.shape[1]), 1)\n",
    "print(f'Missing values: {nb_missing_values} ({percentage_missing_values}%)')"
   ]
  },
  {
   "cell_type": "markdown",
   "metadata": {},
   "source": [
    "We have a lot of missing values: more than 45%"
   ]
  },
  {
   "cell_type": "code",
   "execution_count": 22,
   "metadata": {},
   "outputs": [
    {
     "data": {
      "text/html": [
       "<div>\n",
       "<style scoped>\n",
       "    .dataframe tbody tr th:only-of-type {\n",
       "        vertical-align: middle;\n",
       "    }\n",
       "\n",
       "    .dataframe tbody tr th {\n",
       "        vertical-align: top;\n",
       "    }\n",
       "\n",
       "    .dataframe thead th {\n",
       "        text-align: right;\n",
       "    }\n",
       "</style>\n",
       "<table border=\"1\" class=\"dataframe\">\n",
       "  <thead>\n",
       "    <tr style=\"text-align: right;\">\n",
       "      <th></th>\n",
       "      <th>Missing data (count)</th>\n",
       "      <th>Missing data (%)</th>\n",
       "    </tr>\n",
       "  </thead>\n",
       "  <tbody>\n",
       "    <tr>\n",
       "      <th>id_24</th>\n",
       "      <td>585793</td>\n",
       "      <td>99.2</td>\n",
       "    </tr>\n",
       "    <tr>\n",
       "      <th>id_08</th>\n",
       "      <td>585385</td>\n",
       "      <td>99.1</td>\n",
       "    </tr>\n",
       "    <tr>\n",
       "      <th>id_23</th>\n",
       "      <td>585371</td>\n",
       "      <td>99.1</td>\n",
       "    </tr>\n",
       "    <tr>\n",
       "      <th>id_07</th>\n",
       "      <td>585385</td>\n",
       "      <td>99.1</td>\n",
       "    </tr>\n",
       "    <tr>\n",
       "      <th>id_21</th>\n",
       "      <td>585381</td>\n",
       "      <td>99.1</td>\n",
       "    </tr>\n",
       "    <tr>\n",
       "      <th>id_22</th>\n",
       "      <td>585371</td>\n",
       "      <td>99.1</td>\n",
       "    </tr>\n",
       "    <tr>\n",
       "      <th>id_27</th>\n",
       "      <td>585371</td>\n",
       "      <td>99.1</td>\n",
       "    </tr>\n",
       "    <tr>\n",
       "      <th>id_26</th>\n",
       "      <td>585377</td>\n",
       "      <td>99.1</td>\n",
       "    </tr>\n",
       "    <tr>\n",
       "      <th>id_25</th>\n",
       "      <td>585408</td>\n",
       "      <td>99.1</td>\n",
       "    </tr>\n",
       "    <tr>\n",
       "      <th>dist2</th>\n",
       "      <td>552913</td>\n",
       "      <td>93.6</td>\n",
       "    </tr>\n",
       "  </tbody>\n",
       "</table>\n",
       "</div>"
      ],
      "text/plain": [
       "       Missing data (count)  Missing data (%)\n",
       "id_24                585793              99.2\n",
       "id_08                585385              99.1\n",
       "id_23                585371              99.1\n",
       "id_07                585385              99.1\n",
       "id_21                585381              99.1\n",
       "id_22                585371              99.1\n",
       "id_27                585371              99.1\n",
       "id_26                585377              99.1\n",
       "id_25                585408              99.1\n",
       "dist2                552913              93.6"
      ]
     },
     "execution_count": 22,
     "metadata": {},
     "output_type": "execute_result"
    }
   ],
   "source": [
    "missing_data_count = df_fraud.isnull().sum()\n",
    "missing_data_percentage = round((missing_data_count / len(df_fraud)) * 100, 1)\n",
    "\n",
    "missing_data_stats = pd.DataFrame({\n",
    "    'Missing data (count)': missing_data_count,\n",
    "    'Missing data (%)': missing_data_percentage\n",
    "})\n",
    "\n",
    "missing_data_stats.sort_values(by='Missing data (%)', ascending=False).head(10)"
   ]
  },
  {
   "cell_type": "markdown",
   "metadata": {},
   "source": [
    "For some columns, the missing data percentage is very high. We will have to see if we delete them or if the missing values give information."
   ]
  },
  {
   "cell_type": "markdown",
   "metadata": {},
   "source": [
    "## Encoding"
   ]
  },
  {
   "cell_type": "markdown",
   "metadata": {},
   "source": [
    "To encode object data, we use a OneHotEncoder"
   ]
  },
  {
   "cell_type": "code",
   "execution_count": 23,
   "metadata": {},
   "outputs": [],
   "source": [
    "from sklearn.preprocessing import OneHotEncoder\n",
    "\n",
    "object_df = df_fraud.select_dtypes(include=['object'])\n",
    "\n",
    "encoder = OneHotEncoder(drop='first')\n",
    "encoded_data = encoder.fit_transform(object_df)\n",
    "\n",
    "categories = encoder.categories_\n",
    "\n",
    "encoded_columns = []\n",
    "for i, col in enumerate(object_df.columns):\n",
    "    encoded_columns.extend([f\"{col}_{category}\" for category in categories[i][1:]])\n",
    "\n",
    "encoded_df = pd.DataFrame(encoded_data.toarray(), columns=encoded_columns)\n",
    "\n",
    "df_fraud = df_fraud.drop(columns=object_df.columns)\n",
    "df_fraud = pd.concat([df_fraud, encoded_df], axis=1)"
   ]
  },
  {
   "cell_type": "code",
   "execution_count": 24,
   "metadata": {},
   "outputs": [
    {
     "data": {
      "text/plain": [
       "(590540, 2832)"
      ]
     },
     "execution_count": 24,
     "metadata": {},
     "output_type": "execute_result"
    }
   ],
   "source": [
    "df_fraud.shape"
   ]
  },
  {
   "cell_type": "markdown",
   "metadata": {},
   "source": [
    "Now we have an even higher number of columns."
   ]
  },
  {
   "cell_type": "markdown",
   "metadata": {},
   "source": [
    "Let's see the linear correlation between the columns and the output."
   ]
  },
  {
   "cell_type": "code",
   "execution_count": 25,
   "metadata": {},
   "outputs": [
    {
     "data": {
      "text/plain": [
       "V257    0.383060\n",
       "V246    0.366878\n",
       "V244    0.364129\n",
       "V242    0.360590\n",
       "V201    0.328005\n",
       "dtype: float64"
      ]
     },
     "execution_count": 25,
     "metadata": {},
     "output_type": "execute_result"
    }
   ],
   "source": [
    "correlation = df_fraud.drop('isFraud', axis=1).corrwith(df_fraud['isFraud']).apply(abs).sort_values(ascending=False)\n",
    "correlation.head()"
   ]
  },
  {
   "cell_type": "markdown",
   "metadata": {},
   "source": [
    "Some columns have a quite high correlation with the output. We can try to eliminate the variables with the lowest correlation."
   ]
  },
  {
   "cell_type": "code",
   "execution_count": 26,
   "metadata": {},
   "outputs": [
    {
     "data": {
      "application/vnd.plotly.v1+json": {
       "config": {
        "plotlyServerURL": "https://plot.ly"
       },
       "data": [
        {
         "mode": "lines+markers",
         "type": "scatter",
         "x": [
          0,
          0.005,
          0.01,
          0.015,
          0.02,
          0.025,
          0.03,
          0.035,
          0.04,
          0.045,
          0.05,
          0.055,
          0.06,
          0.065,
          0.07,
          0.075,
          0.08,
          0.085,
          0.09,
          0.095,
          0.1,
          0.105,
          0.11,
          0.115,
          0.12,
          0.125,
          0.13,
          0.135,
          0.14,
          0.145,
          0.15,
          0.155,
          0.16,
          0.165,
          0.17,
          0.17500000000000002,
          0.18,
          0.185,
          0.19,
          0.195,
          0.2,
          0.20500000000000002,
          0.21,
          0.215,
          0.22,
          0.225,
          0.23,
          0.23500000000000001,
          0.24,
          0.245,
          0.25,
          0.255,
          0.26,
          0.265,
          0.27,
          0.275,
          0.28,
          0.28500000000000003,
          0.29,
          0.295,
          0.3,
          0.305,
          0.31,
          0.315,
          0.32,
          0.325,
          0.33,
          0.335,
          0.34,
          0.34500000000000003,
          0.35000000000000003,
          0.355,
          0.36,
          0.365,
          0.37,
          0.375,
          0.38
         ],
         "y": [
          2832,
          792,
          593,
          468,
          391,
          335,
          303,
          278,
          259,
          240,
          216,
          204,
          196,
          185,
          173,
          168,
          161,
          154,
          146,
          145,
          141,
          134,
          130,
          125,
          120,
          113,
          109,
          104,
          91,
          87,
          81,
          70,
          67,
          62,
          57,
          54,
          50,
          41,
          38,
          37,
          33,
          32,
          30,
          28,
          27,
          26,
          25,
          21,
          20,
          19,
          18,
          16,
          16,
          15,
          14,
          13,
          11,
          10,
          10,
          10,
          9,
          8,
          7,
          7,
          6,
          6,
          5,
          5,
          5,
          5,
          5,
          5,
          5,
          3,
          2,
          2,
          2
         ]
        }
       ],
       "layout": {
        "template": {
         "data": {
          "bar": [
           {
            "error_x": {
             "color": "#2a3f5f"
            },
            "error_y": {
             "color": "#2a3f5f"
            },
            "marker": {
             "line": {
              "color": "#E5ECF6",
              "width": 0.5
             },
             "pattern": {
              "fillmode": "overlay",
              "size": 10,
              "solidity": 0.2
             }
            },
            "type": "bar"
           }
          ],
          "barpolar": [
           {
            "marker": {
             "line": {
              "color": "#E5ECF6",
              "width": 0.5
             },
             "pattern": {
              "fillmode": "overlay",
              "size": 10,
              "solidity": 0.2
             }
            },
            "type": "barpolar"
           }
          ],
          "carpet": [
           {
            "aaxis": {
             "endlinecolor": "#2a3f5f",
             "gridcolor": "white",
             "linecolor": "white",
             "minorgridcolor": "white",
             "startlinecolor": "#2a3f5f"
            },
            "baxis": {
             "endlinecolor": "#2a3f5f",
             "gridcolor": "white",
             "linecolor": "white",
             "minorgridcolor": "white",
             "startlinecolor": "#2a3f5f"
            },
            "type": "carpet"
           }
          ],
          "choropleth": [
           {
            "colorbar": {
             "outlinewidth": 0,
             "ticks": ""
            },
            "type": "choropleth"
           }
          ],
          "contour": [
           {
            "colorbar": {
             "outlinewidth": 0,
             "ticks": ""
            },
            "colorscale": [
             [
              0,
              "#0d0887"
             ],
             [
              0.1111111111111111,
              "#46039f"
             ],
             [
              0.2222222222222222,
              "#7201a8"
             ],
             [
              0.3333333333333333,
              "#9c179e"
             ],
             [
              0.4444444444444444,
              "#bd3786"
             ],
             [
              0.5555555555555556,
              "#d8576b"
             ],
             [
              0.6666666666666666,
              "#ed7953"
             ],
             [
              0.7777777777777778,
              "#fb9f3a"
             ],
             [
              0.8888888888888888,
              "#fdca26"
             ],
             [
              1,
              "#f0f921"
             ]
            ],
            "type": "contour"
           }
          ],
          "contourcarpet": [
           {
            "colorbar": {
             "outlinewidth": 0,
             "ticks": ""
            },
            "type": "contourcarpet"
           }
          ],
          "heatmap": [
           {
            "colorbar": {
             "outlinewidth": 0,
             "ticks": ""
            },
            "colorscale": [
             [
              0,
              "#0d0887"
             ],
             [
              0.1111111111111111,
              "#46039f"
             ],
             [
              0.2222222222222222,
              "#7201a8"
             ],
             [
              0.3333333333333333,
              "#9c179e"
             ],
             [
              0.4444444444444444,
              "#bd3786"
             ],
             [
              0.5555555555555556,
              "#d8576b"
             ],
             [
              0.6666666666666666,
              "#ed7953"
             ],
             [
              0.7777777777777778,
              "#fb9f3a"
             ],
             [
              0.8888888888888888,
              "#fdca26"
             ],
             [
              1,
              "#f0f921"
             ]
            ],
            "type": "heatmap"
           }
          ],
          "heatmapgl": [
           {
            "colorbar": {
             "outlinewidth": 0,
             "ticks": ""
            },
            "colorscale": [
             [
              0,
              "#0d0887"
             ],
             [
              0.1111111111111111,
              "#46039f"
             ],
             [
              0.2222222222222222,
              "#7201a8"
             ],
             [
              0.3333333333333333,
              "#9c179e"
             ],
             [
              0.4444444444444444,
              "#bd3786"
             ],
             [
              0.5555555555555556,
              "#d8576b"
             ],
             [
              0.6666666666666666,
              "#ed7953"
             ],
             [
              0.7777777777777778,
              "#fb9f3a"
             ],
             [
              0.8888888888888888,
              "#fdca26"
             ],
             [
              1,
              "#f0f921"
             ]
            ],
            "type": "heatmapgl"
           }
          ],
          "histogram": [
           {
            "marker": {
             "pattern": {
              "fillmode": "overlay",
              "size": 10,
              "solidity": 0.2
             }
            },
            "type": "histogram"
           }
          ],
          "histogram2d": [
           {
            "colorbar": {
             "outlinewidth": 0,
             "ticks": ""
            },
            "colorscale": [
             [
              0,
              "#0d0887"
             ],
             [
              0.1111111111111111,
              "#46039f"
             ],
             [
              0.2222222222222222,
              "#7201a8"
             ],
             [
              0.3333333333333333,
              "#9c179e"
             ],
             [
              0.4444444444444444,
              "#bd3786"
             ],
             [
              0.5555555555555556,
              "#d8576b"
             ],
             [
              0.6666666666666666,
              "#ed7953"
             ],
             [
              0.7777777777777778,
              "#fb9f3a"
             ],
             [
              0.8888888888888888,
              "#fdca26"
             ],
             [
              1,
              "#f0f921"
             ]
            ],
            "type": "histogram2d"
           }
          ],
          "histogram2dcontour": [
           {
            "colorbar": {
             "outlinewidth": 0,
             "ticks": ""
            },
            "colorscale": [
             [
              0,
              "#0d0887"
             ],
             [
              0.1111111111111111,
              "#46039f"
             ],
             [
              0.2222222222222222,
              "#7201a8"
             ],
             [
              0.3333333333333333,
              "#9c179e"
             ],
             [
              0.4444444444444444,
              "#bd3786"
             ],
             [
              0.5555555555555556,
              "#d8576b"
             ],
             [
              0.6666666666666666,
              "#ed7953"
             ],
             [
              0.7777777777777778,
              "#fb9f3a"
             ],
             [
              0.8888888888888888,
              "#fdca26"
             ],
             [
              1,
              "#f0f921"
             ]
            ],
            "type": "histogram2dcontour"
           }
          ],
          "mesh3d": [
           {
            "colorbar": {
             "outlinewidth": 0,
             "ticks": ""
            },
            "type": "mesh3d"
           }
          ],
          "parcoords": [
           {
            "line": {
             "colorbar": {
              "outlinewidth": 0,
              "ticks": ""
             }
            },
            "type": "parcoords"
           }
          ],
          "pie": [
           {
            "automargin": true,
            "type": "pie"
           }
          ],
          "scatter": [
           {
            "fillpattern": {
             "fillmode": "overlay",
             "size": 10,
             "solidity": 0.2
            },
            "type": "scatter"
           }
          ],
          "scatter3d": [
           {
            "line": {
             "colorbar": {
              "outlinewidth": 0,
              "ticks": ""
             }
            },
            "marker": {
             "colorbar": {
              "outlinewidth": 0,
              "ticks": ""
             }
            },
            "type": "scatter3d"
           }
          ],
          "scattercarpet": [
           {
            "marker": {
             "colorbar": {
              "outlinewidth": 0,
              "ticks": ""
             }
            },
            "type": "scattercarpet"
           }
          ],
          "scattergeo": [
           {
            "marker": {
             "colorbar": {
              "outlinewidth": 0,
              "ticks": ""
             }
            },
            "type": "scattergeo"
           }
          ],
          "scattergl": [
           {
            "marker": {
             "colorbar": {
              "outlinewidth": 0,
              "ticks": ""
             }
            },
            "type": "scattergl"
           }
          ],
          "scattermapbox": [
           {
            "marker": {
             "colorbar": {
              "outlinewidth": 0,
              "ticks": ""
             }
            },
            "type": "scattermapbox"
           }
          ],
          "scatterpolar": [
           {
            "marker": {
             "colorbar": {
              "outlinewidth": 0,
              "ticks": ""
             }
            },
            "type": "scatterpolar"
           }
          ],
          "scatterpolargl": [
           {
            "marker": {
             "colorbar": {
              "outlinewidth": 0,
              "ticks": ""
             }
            },
            "type": "scatterpolargl"
           }
          ],
          "scatterternary": [
           {
            "marker": {
             "colorbar": {
              "outlinewidth": 0,
              "ticks": ""
             }
            },
            "type": "scatterternary"
           }
          ],
          "surface": [
           {
            "colorbar": {
             "outlinewidth": 0,
             "ticks": ""
            },
            "colorscale": [
             [
              0,
              "#0d0887"
             ],
             [
              0.1111111111111111,
              "#46039f"
             ],
             [
              0.2222222222222222,
              "#7201a8"
             ],
             [
              0.3333333333333333,
              "#9c179e"
             ],
             [
              0.4444444444444444,
              "#bd3786"
             ],
             [
              0.5555555555555556,
              "#d8576b"
             ],
             [
              0.6666666666666666,
              "#ed7953"
             ],
             [
              0.7777777777777778,
              "#fb9f3a"
             ],
             [
              0.8888888888888888,
              "#fdca26"
             ],
             [
              1,
              "#f0f921"
             ]
            ],
            "type": "surface"
           }
          ],
          "table": [
           {
            "cells": {
             "fill": {
              "color": "#EBF0F8"
             },
             "line": {
              "color": "white"
             }
            },
            "header": {
             "fill": {
              "color": "#C8D4E3"
             },
             "line": {
              "color": "white"
             }
            },
            "type": "table"
           }
          ]
         },
         "layout": {
          "annotationdefaults": {
           "arrowcolor": "#2a3f5f",
           "arrowhead": 0,
           "arrowwidth": 1
          },
          "autotypenumbers": "strict",
          "coloraxis": {
           "colorbar": {
            "outlinewidth": 0,
            "ticks": ""
           }
          },
          "colorscale": {
           "diverging": [
            [
             0,
             "#8e0152"
            ],
            [
             0.1,
             "#c51b7d"
            ],
            [
             0.2,
             "#de77ae"
            ],
            [
             0.3,
             "#f1b6da"
            ],
            [
             0.4,
             "#fde0ef"
            ],
            [
             0.5,
             "#f7f7f7"
            ],
            [
             0.6,
             "#e6f5d0"
            ],
            [
             0.7,
             "#b8e186"
            ],
            [
             0.8,
             "#7fbc41"
            ],
            [
             0.9,
             "#4d9221"
            ],
            [
             1,
             "#276419"
            ]
           ],
           "sequential": [
            [
             0,
             "#0d0887"
            ],
            [
             0.1111111111111111,
             "#46039f"
            ],
            [
             0.2222222222222222,
             "#7201a8"
            ],
            [
             0.3333333333333333,
             "#9c179e"
            ],
            [
             0.4444444444444444,
             "#bd3786"
            ],
            [
             0.5555555555555556,
             "#d8576b"
            ],
            [
             0.6666666666666666,
             "#ed7953"
            ],
            [
             0.7777777777777778,
             "#fb9f3a"
            ],
            [
             0.8888888888888888,
             "#fdca26"
            ],
            [
             1,
             "#f0f921"
            ]
           ],
           "sequentialminus": [
            [
             0,
             "#0d0887"
            ],
            [
             0.1111111111111111,
             "#46039f"
            ],
            [
             0.2222222222222222,
             "#7201a8"
            ],
            [
             0.3333333333333333,
             "#9c179e"
            ],
            [
             0.4444444444444444,
             "#bd3786"
            ],
            [
             0.5555555555555556,
             "#d8576b"
            ],
            [
             0.6666666666666666,
             "#ed7953"
            ],
            [
             0.7777777777777778,
             "#fb9f3a"
            ],
            [
             0.8888888888888888,
             "#fdca26"
            ],
            [
             1,
             "#f0f921"
            ]
           ]
          },
          "colorway": [
           "#636efa",
           "#EF553B",
           "#00cc96",
           "#ab63fa",
           "#FFA15A",
           "#19d3f3",
           "#FF6692",
           "#B6E880",
           "#FF97FF",
           "#FECB52"
          ],
          "font": {
           "color": "#2a3f5f"
          },
          "geo": {
           "bgcolor": "white",
           "lakecolor": "white",
           "landcolor": "#E5ECF6",
           "showlakes": true,
           "showland": true,
           "subunitcolor": "white"
          },
          "hoverlabel": {
           "align": "left"
          },
          "hovermode": "closest",
          "mapbox": {
           "style": "light"
          },
          "paper_bgcolor": "white",
          "plot_bgcolor": "#E5ECF6",
          "polar": {
           "angularaxis": {
            "gridcolor": "white",
            "linecolor": "white",
            "ticks": ""
           },
           "bgcolor": "#E5ECF6",
           "radialaxis": {
            "gridcolor": "white",
            "linecolor": "white",
            "ticks": ""
           }
          },
          "scene": {
           "xaxis": {
            "backgroundcolor": "#E5ECF6",
            "gridcolor": "white",
            "gridwidth": 2,
            "linecolor": "white",
            "showbackground": true,
            "ticks": "",
            "zerolinecolor": "white"
           },
           "yaxis": {
            "backgroundcolor": "#E5ECF6",
            "gridcolor": "white",
            "gridwidth": 2,
            "linecolor": "white",
            "showbackground": true,
            "ticks": "",
            "zerolinecolor": "white"
           },
           "zaxis": {
            "backgroundcolor": "#E5ECF6",
            "gridcolor": "white",
            "gridwidth": 2,
            "linecolor": "white",
            "showbackground": true,
            "ticks": "",
            "zerolinecolor": "white"
           }
          },
          "shapedefaults": {
           "line": {
            "color": "#2a3f5f"
           }
          },
          "ternary": {
           "aaxis": {
            "gridcolor": "white",
            "linecolor": "white",
            "ticks": ""
           },
           "baxis": {
            "gridcolor": "white",
            "linecolor": "white",
            "ticks": ""
           },
           "bgcolor": "#E5ECF6",
           "caxis": {
            "gridcolor": "white",
            "linecolor": "white",
            "ticks": ""
           }
          },
          "title": {
           "x": 0.05
          },
          "xaxis": {
           "automargin": true,
           "gridcolor": "white",
           "linecolor": "white",
           "ticks": "",
           "title": {
            "standoff": 15
           },
           "zerolinecolor": "white",
           "zerolinewidth": 2
          },
          "yaxis": {
           "automargin": true,
           "gridcolor": "white",
           "linecolor": "white",
           "ticks": "",
           "title": {
            "standoff": 15
           },
           "zerolinecolor": "white",
           "zerolinewidth": 2
          }
         }
        },
        "title": {
         "text": "Number of columns remaining depending on the correlation threshold"
        },
        "xaxis": {
         "title": {
          "text": "Threshold"
         }
        },
        "yaxis": {
         "title": {
          "text": "Number of columns remaining"
         }
        }
       }
      }
     },
     "metadata": {},
     "output_type": "display_data"
    }
   ],
   "source": [
    "import numpy as np\n",
    "import plotly.graph_objects as go\n",
    "\n",
    "fig = go.Figure()\n",
    "thresholds = np.arange(0, correlation[0], 0.005)\n",
    "nb_col_remaining = []\n",
    "\n",
    "for threshold in thresholds:\n",
    "    columns_to_drop = correlation[correlation < threshold].index\n",
    "    nb_col_remaining.append(df_fraud.shape[1] - len(columns_to_drop))\n",
    "\n",
    "fig.add_trace(go.Scatter(x=thresholds, y=nb_col_remaining, mode='lines+markers'))\n",
    "fig.update_layout(title='Number of columns remaining depending on the correlation threshold',\n",
    "                  xaxis_title='Threshold',\n",
    "                  yaxis_title='Number of columns remaining')\n"
   ]
  },
  {
   "cell_type": "markdown",
   "metadata": {},
   "source": [
    "If we eliminate all the columns which have a correlation lower than 0.05, we still keep a lot of columns. But we eliminate more than 2000 variable, most of them are from the encoder which mean some values encoded don't have correlation with the output."
   ]
  },
  {
   "cell_type": "code",
   "execution_count": 27,
   "metadata": {},
   "outputs": [],
   "source": [
    "threshold = 0.05\n",
    "columns_to_drop = correlation[correlation < threshold].index"
   ]
  },
  {
   "cell_type": "code",
   "execution_count": 28,
   "metadata": {},
   "outputs": [],
   "source": [
    "df_fraud_filtered = df_fraud.drop(columns=columns_to_drop)"
   ]
  },
  {
   "cell_type": "code",
   "execution_count": 29,
   "metadata": {},
   "outputs": [
    {
     "data": {
      "text/plain": [
       "(590540, 216)"
      ]
     },
     "execution_count": 29,
     "metadata": {},
     "output_type": "execute_result"
    }
   ],
   "source": [
    "df_fraud_filtered.shape"
   ]
  },
  {
   "cell_type": "code",
   "execution_count": 30,
   "metadata": {},
   "outputs": [],
   "source": [
    "df_fraud_filtered.to_csv('data/data_fraud_filtered1.csv', index=False)"
   ]
  },
  {
   "cell_type": "markdown",
   "metadata": {},
   "source": [
    "## Preprocessing"
   ]
  },
  {
   "cell_type": "markdown",
   "metadata": {},
   "source": [
    "### Load encoded data"
   ]
  },
  {
   "cell_type": "code",
   "execution_count": 31,
   "metadata": {},
   "outputs": [
    {
     "data": {
      "text/html": [
       "<div>\n",
       "<style scoped>\n",
       "    .dataframe tbody tr th:only-of-type {\n",
       "        vertical-align: middle;\n",
       "    }\n",
       "\n",
       "    .dataframe tbody tr th {\n",
       "        vertical-align: top;\n",
       "    }\n",
       "\n",
       "    .dataframe thead th {\n",
       "        text-align: right;\n",
       "    }\n",
       "</style>\n",
       "<table border=\"1\" class=\"dataframe\">\n",
       "  <thead>\n",
       "    <tr style=\"text-align: right;\">\n",
       "      <th></th>\n",
       "      <th>isFraud</th>\n",
       "      <th>card3</th>\n",
       "      <th>D1</th>\n",
       "      <th>D2</th>\n",
       "      <th>D4</th>\n",
       "      <th>D5</th>\n",
       "      <th>D6</th>\n",
       "      <th>D7</th>\n",
       "      <th>D8</th>\n",
       "      <th>D10</th>\n",
       "      <th>...</th>\n",
       "      <th>id_35_nan</th>\n",
       "      <th>id_36_nan</th>\n",
       "      <th>id_37_T</th>\n",
       "      <th>id_37_nan</th>\n",
       "      <th>id_38_nan</th>\n",
       "      <th>DeviceType_mobile</th>\n",
       "      <th>DeviceType_nan</th>\n",
       "      <th>DeviceInfo_SM-A300H Build/LRX22G</th>\n",
       "      <th>DeviceInfo_hi6210sft Build/MRA58K</th>\n",
       "      <th>DeviceInfo_nan</th>\n",
       "    </tr>\n",
       "  </thead>\n",
       "  <tbody>\n",
       "    <tr>\n",
       "      <th>0</th>\n",
       "      <td>0</td>\n",
       "      <td>150.0</td>\n",
       "      <td>14.0</td>\n",
       "      <td>NaN</td>\n",
       "      <td>NaN</td>\n",
       "      <td>NaN</td>\n",
       "      <td>NaN</td>\n",
       "      <td>NaN</td>\n",
       "      <td>NaN</td>\n",
       "      <td>13.0</td>\n",
       "      <td>...</td>\n",
       "      <td>1.0</td>\n",
       "      <td>1.0</td>\n",
       "      <td>0.0</td>\n",
       "      <td>1.0</td>\n",
       "      <td>1.0</td>\n",
       "      <td>0.0</td>\n",
       "      <td>1.0</td>\n",
       "      <td>0.0</td>\n",
       "      <td>0.0</td>\n",
       "      <td>1.0</td>\n",
       "    </tr>\n",
       "    <tr>\n",
       "      <th>1</th>\n",
       "      <td>0</td>\n",
       "      <td>150.0</td>\n",
       "      <td>0.0</td>\n",
       "      <td>NaN</td>\n",
       "      <td>0.0</td>\n",
       "      <td>NaN</td>\n",
       "      <td>NaN</td>\n",
       "      <td>NaN</td>\n",
       "      <td>NaN</td>\n",
       "      <td>0.0</td>\n",
       "      <td>...</td>\n",
       "      <td>1.0</td>\n",
       "      <td>1.0</td>\n",
       "      <td>0.0</td>\n",
       "      <td>1.0</td>\n",
       "      <td>1.0</td>\n",
       "      <td>0.0</td>\n",
       "      <td>1.0</td>\n",
       "      <td>0.0</td>\n",
       "      <td>0.0</td>\n",
       "      <td>1.0</td>\n",
       "    </tr>\n",
       "    <tr>\n",
       "      <th>2</th>\n",
       "      <td>0</td>\n",
       "      <td>150.0</td>\n",
       "      <td>0.0</td>\n",
       "      <td>NaN</td>\n",
       "      <td>0.0</td>\n",
       "      <td>NaN</td>\n",
       "      <td>NaN</td>\n",
       "      <td>NaN</td>\n",
       "      <td>NaN</td>\n",
       "      <td>0.0</td>\n",
       "      <td>...</td>\n",
       "      <td>1.0</td>\n",
       "      <td>1.0</td>\n",
       "      <td>0.0</td>\n",
       "      <td>1.0</td>\n",
       "      <td>1.0</td>\n",
       "      <td>0.0</td>\n",
       "      <td>1.0</td>\n",
       "      <td>0.0</td>\n",
       "      <td>0.0</td>\n",
       "      <td>1.0</td>\n",
       "    </tr>\n",
       "    <tr>\n",
       "      <th>3</th>\n",
       "      <td>0</td>\n",
       "      <td>150.0</td>\n",
       "      <td>112.0</td>\n",
       "      <td>112.0</td>\n",
       "      <td>94.0</td>\n",
       "      <td>0.0</td>\n",
       "      <td>NaN</td>\n",
       "      <td>NaN</td>\n",
       "      <td>NaN</td>\n",
       "      <td>84.0</td>\n",
       "      <td>...</td>\n",
       "      <td>1.0</td>\n",
       "      <td>1.0</td>\n",
       "      <td>0.0</td>\n",
       "      <td>1.0</td>\n",
       "      <td>1.0</td>\n",
       "      <td>0.0</td>\n",
       "      <td>1.0</td>\n",
       "      <td>0.0</td>\n",
       "      <td>0.0</td>\n",
       "      <td>1.0</td>\n",
       "    </tr>\n",
       "    <tr>\n",
       "      <th>4</th>\n",
       "      <td>0</td>\n",
       "      <td>150.0</td>\n",
       "      <td>0.0</td>\n",
       "      <td>NaN</td>\n",
       "      <td>NaN</td>\n",
       "      <td>NaN</td>\n",
       "      <td>NaN</td>\n",
       "      <td>NaN</td>\n",
       "      <td>NaN</td>\n",
       "      <td>NaN</td>\n",
       "      <td>...</td>\n",
       "      <td>0.0</td>\n",
       "      <td>0.0</td>\n",
       "      <td>1.0</td>\n",
       "      <td>0.0</td>\n",
       "      <td>0.0</td>\n",
       "      <td>1.0</td>\n",
       "      <td>0.0</td>\n",
       "      <td>0.0</td>\n",
       "      <td>0.0</td>\n",
       "      <td>0.0</td>\n",
       "    </tr>\n",
       "  </tbody>\n",
       "</table>\n",
       "<p>5 rows × 216 columns</p>\n",
       "</div>"
      ],
      "text/plain": [
       "   isFraud  card3     D1     D2    D4   D5  D6  D7  D8   D10  ...  id_35_nan  \\\n",
       "0        0  150.0   14.0    NaN   NaN  NaN NaN NaN NaN  13.0  ...        1.0   \n",
       "1        0  150.0    0.0    NaN   0.0  NaN NaN NaN NaN   0.0  ...        1.0   \n",
       "2        0  150.0    0.0    NaN   0.0  NaN NaN NaN NaN   0.0  ...        1.0   \n",
       "3        0  150.0  112.0  112.0  94.0  0.0 NaN NaN NaN  84.0  ...        1.0   \n",
       "4        0  150.0    0.0    NaN   NaN  NaN NaN NaN NaN   NaN  ...        0.0   \n",
       "\n",
       "   id_36_nan  id_37_T  id_37_nan  id_38_nan  DeviceType_mobile  \\\n",
       "0        1.0      0.0        1.0        1.0                0.0   \n",
       "1        1.0      0.0        1.0        1.0                0.0   \n",
       "2        1.0      0.0        1.0        1.0                0.0   \n",
       "3        1.0      0.0        1.0        1.0                0.0   \n",
       "4        0.0      1.0        0.0        0.0                1.0   \n",
       "\n",
       "   DeviceType_nan  DeviceInfo_SM-A300H Build/LRX22G  \\\n",
       "0             1.0                               0.0   \n",
       "1             1.0                               0.0   \n",
       "2             1.0                               0.0   \n",
       "3             1.0                               0.0   \n",
       "4             0.0                               0.0   \n",
       "\n",
       "   DeviceInfo_hi6210sft Build/MRA58K  DeviceInfo_nan  \n",
       "0                                0.0             1.0  \n",
       "1                                0.0             1.0  \n",
       "2                                0.0             1.0  \n",
       "3                                0.0             1.0  \n",
       "4                                0.0             0.0  \n",
       "\n",
       "[5 rows x 216 columns]"
      ]
     },
     "execution_count": 31,
     "metadata": {},
     "output_type": "execute_result"
    }
   ],
   "source": [
    "import pandas as pd\n",
    "\n",
    "df_fraud_filtered = pd.read_csv('data/data_fraud_filtered1.csv')\n",
    "df_fraud_filtered.head()"
   ]
  },
  {
   "cell_type": "markdown",
   "metadata": {},
   "source": [
    "Now, we are going to impute values to train models on it."
   ]
  },
  {
   "cell_type": "markdown",
   "metadata": {},
   "source": [
    "### Imputation of data"
   ]
  },
  {
   "cell_type": "code",
   "execution_count": 32,
   "metadata": {},
   "outputs": [],
   "source": [
    "from sklearn.experimental import enable_iterative_imputer\n",
    "from sklearn.impute import IterativeImputer\n",
    "\n",
    "import warnings\n",
    "warnings.filterwarnings('ignore')\n",
    "\n",
    "imputer = IterativeImputer(n_nearest_features=20, random_state=42)\n",
    "imputer.fit(df_fraud_filtered)\n",
    "df_fraud_imputed = imputer.transform(df_fraud_filtered)\n",
    "df_fraud_imputed = pd.DataFrame(df_fraud_imputed, columns=df_fraud_filtered.columns)"
   ]
  },
  {
   "cell_type": "code",
   "execution_count": 33,
   "metadata": {},
   "outputs": [],
   "source": [
    "df_fraud_imputed.to_csv('data/data_fraud_imputed1.csv', index=False)"
   ]
  },
  {
   "cell_type": "markdown",
   "metadata": {},
   "source": [
    "Now we can reduce again the dimension eliminating multicolinearity. To do this, we are going to use the Variance Inflation Factor (VIF). A VIF higher than 10 reveals a high multicolinearity so we can delete these variables."
   ]
  },
  {
   "cell_type": "markdown",
   "metadata": {},
   "source": [
    "Calculating the VIF require a lot of time so we are going to use a random sample to eliminate the multicolinearity."
   ]
  },
  {
   "cell_type": "markdown",
   "metadata": {},
   "source": [
    "### Delete multicolinearity with VIF on a sample"
   ]
  },
  {
   "cell_type": "code",
   "execution_count": 34,
   "metadata": {},
   "outputs": [],
   "source": [
    "import pandas as pd\n",
    "\n",
    "df_fraud_imputed = pd.read_csv('data/data_fraud_imputed1.csv')"
   ]
  },
  {
   "cell_type": "code",
   "execution_count": 35,
   "metadata": {},
   "outputs": [],
   "source": [
    "size_sample = 5000\n",
    "df_sampled = df_fraud_imputed.sample(n=size_sample, random_state=42)"
   ]
  },
  {
   "cell_type": "code",
   "execution_count": 36,
   "metadata": {},
   "outputs": [
    {
     "name": "stdout",
     "output_type": "stream",
     "text": [
      "Dropped column id_15_nan with VIF: inf (23s)\n",
      "Dropped column M3_nan with VIF: inf (24s)\n",
      "Dropped column M7_nan with VIF: inf (24s)\n",
      "Dropped column M2_nan with VIF: inf (24s)\n",
      "Dropped column M9_nan with VIF: inf (24s)\n",
      "Dropped column id_29_nan with VIF: inf (23s)\n",
      "Dropped column id_38_nan with VIF: inf (24s)\n",
      "Dropped column id_37_nan with VIF: inf (23s)\n",
      "Dropped column id_36_nan with VIF: inf (23s)\n",
      "Dropped column id_35_nan with VIF: inf (23s)\n",
      "Dropped column id_18 with VIF: 11525.2 (22s)\n",
      "Dropped column DeviceType_nan with VIF: 5303.4 (22s)\n",
      "Dropped column V155 with VIF: 4703.2 (22s)\n",
      "Dropped column V247 with VIF: 4043.5 (21s)\n",
      "Dropped column D7 with VIF: 3432.2 (21s)\n",
      "Dropped column id_26 with VIF: 2923.8 (22s)\n",
      "Dropped column V111 with VIF: 2291.9 (21s)\n",
      "Dropped column id_22 with VIF: 2042.4 (20s)\n",
      "Dropped column V186 with VIF: 1997.3 (20s)\n",
      "Dropped column id_32 with VIF: 1974.7 (20s)\n",
      "Dropped column V153 with VIF: 1918.6 (19s)\n",
      "Dropped column V249 with VIF: 1760.6 (19s)\n",
      "Dropped column V197 with VIF: 1580.6 (20s)\n",
      "Dropped column V108 with VIF: 1557.1 (19s)\n",
      "Dropped column M1_T with VIF: 1448.1 (19s)\n",
      "Dropped column V158 with VIF: 1379.3 (18s)\n",
      "Dropped column id_28_nan with VIF: 1327.4 (18s)\n",
      "Dropped column V31 with VIF: 1294.8 (18s)\n",
      "Dropped column V242 with VIF: 1263.1 (18s)\n",
      "Dropped column V190 with VIF: 1155.5 (17s)\n",
      "Dropped column V194 with VIF: 1080.2 (17s)\n",
      "Dropped column id_17 with VIF: 968.6 (17s)\n",
      "Dropped column V113 with VIF: 818.0 (17s)\n",
      "Dropped column R_emaildomain_nan with VIF: 805.1 (17s)\n",
      "Dropped column V149 with VIF: 789.3 (16s)\n",
      "Dropped column V252 with VIF: 760.5 (16s)\n",
      "Dropped column V189 with VIF: 675.8 (16s)\n",
      "Dropped column V123 with VIF: 535.5 (16s)\n",
      "Dropped column V116 with VIF: 518.0 (16s)\n",
      "Dropped column V139 with VIF: 502.3 (16s)\n",
      "Dropped column V244 with VIF: 453.9 (15s)\n",
      "Dropped column V195 with VIF: 444.3 (17s)\n",
      "Dropped column card6_debit with VIF: 443.0 (25s)\n",
      "Dropped column V151 with VIF: 426.6 (30s)\n",
      "Dropped column V110 with VIF: 399.8 (25s)\n",
      "Dropped column id_31_nan with VIF: 392.2 (20s)\n",
      "Dropped column card3 with VIF: 368.8 (20s)\n",
      "Dropped column V17 with VIF: 353.2 (20s)\n",
      "Dropped column V156 with VIF: 334.1 (19s)\n",
      "Dropped column V200 with VIF: 324.6 (20s)\n",
      "Dropped column ProductCD_W with VIF: 301.8 (19s)\n",
      "Dropped column V191 with VIF: 294.2 (20s)\n",
      "Dropped column id_08 with VIF: 276.2 (18s)\n",
      "Dropped column V246 with VIF: 273.6 (18s)\n",
      "Dropped column V46 with VIF: 263.1 (18s)\n",
      "Dropped column V150 with VIF: 262.9 (17s)\n",
      "Dropped column V112 with VIF: 259.4 (17s)\n",
      "Dropped column V248 with VIF: 252.1 (17s)\n",
      "Dropped column V57 with VIF: 249.4 (16s)\n",
      "Dropped column id_12_nan with VIF: 244.2 (17s)\n",
      "Dropped column id_21 with VIF: 215.3 (18s)\n",
      "Dropped column V15 with VIF: 212.6 (16s)\n",
      "Dropped column V148 with VIF: 211.3 (15s)\n",
      "Dropped column V114 with VIF: 209.4 (15s)\n",
      "Dropped column V72 with VIF: 199.8 (15s)\n",
      "Dropped column V245 with VIF: 181.2 (14s)\n",
      "Dropped column id_07 with VIF: 174.9 (15s)\n",
      "Dropped column V93 with VIF: 169.9 (14s)\n",
      "Dropped column V23 with VIF: 168.5 (14s)\n",
      "Dropped column id_16_nan with VIF: 164.0 (14s)\n",
      "Dropped column V21 with VIF: 155.4 (14s)\n",
      "Dropped column V230 with VIF: 153.4 (14s)\n",
      "Dropped column V221 with VIF: 148.1 (14s)\n",
      "Dropped column V198 with VIF: 142.8 (14s)\n",
      "Dropped column V176 with VIF: 134.8 (13s)\n",
      "Dropped column V109 with VIF: 132.1 (13s)\n",
      "Dropped column V154 with VIF: 125.9 (13s)\n",
      "Dropped column V84 with VIF: 114.9 (12s)\n",
      "Dropped column V50 with VIF: 111.6 (14s)\n",
      "Dropped column V86 with VIF: 106.6 (12s)\n",
      "Dropped column V152 with VIF: 92.8 (13s)\n",
      "Dropped column V48 with VIF: 91.4 (12s)\n",
      "Dropped column V37 with VIF: 90.3 (12s)\n",
      "Dropped column V188 with VIF: 88.6 (12s)\n",
      "Dropped column V80 with VIF: 82.7 (11s)\n",
      "Dropped column V243 with VIF: 82.2 (11s)\n",
      "Dropped column id_14 with VIF: 80.0 (11s)\n",
      "Dropped column V10 with VIF: 78.8 (13s)\n",
      "Dropped column V42 with VIF: 77.6 (12s)\n",
      "Dropped column V232 with VIF: 74.7 (10s)\n",
      "Dropped column V256 with VIF: 74.3 (10s)\n",
      "Dropped column V71 with VIF: 73.2 (10s)\n",
      "Dropped column V125 with VIF: 69.0 (10s)\n",
      "Dropped column V29 with VIF: 67.0 (10s)\n",
      "Dropped column V257 with VIF: 66.5 (9s)\n",
      "Dropped column V47 with VIF: 63.0 (9s)\n",
      "Dropped column V77 with VIF: 62.7 (9s)\n",
      "Dropped column V63 with VIF: 62.3 (9s)\n",
      "Dropped column V157 with VIF: 60.3 (9s)\n",
      "Dropped column V51 with VIF: 60.2 (9s)\n",
      "Dropped column V33 with VIF: 58.3 (9s)\n",
      "Dropped column V60 with VIF: 55.4 (6s)\n",
      "Dropped column V262 with VIF: 53.2 (6s)\n",
      "Dropped column V44 with VIF: 52.0 (6s)\n",
      "Dropped column V90 with VIF: 51.8 (6s)\n",
      "Dropped column V115 with VIF: 50.8 (6s)\n",
      "Dropped column V16 with VIF: 50.3 (6s)\n",
      "Dropped column V304 with VIF: 48.4 (6s)\n",
      "Dropped column V145 with VIF: 46.1 (5s)\n",
      "Dropped column V24 with VIF: 45.8 (5s)\n",
      "Dropped column V92 with VIF: 42.3 (5s)\n",
      "Dropped column V170 with VIF: 40.7 (5s)\n",
      "Dropped column V18 with VIF: 40.2 (5s)\n",
      "Dropped column V83 with VIF: 37.5 (5s)\n",
      "Dropped column V94 with VIF: 37.2 (5s)\n",
      "Dropped column V239 with VIF: 35.7 (5s)\n",
      "Dropped column V228 with VIF: 35.6 (5s)\n",
      "Dropped column V39 with VIF: 33.9 (4s)\n",
      "Dropped column V87 with VIF: 33.2 (5s)\n",
      "Dropped column V85 with VIF: 33.1 (4s)\n",
      "Dropped column V67 with VIF: 31.5 (4s)\n",
      "Dropped column V36 with VIF: 30.1 (4s)\n",
      "Dropped column V73 with VIF: 30.0 (4s)\n",
      "Dropped column V70 with VIF: 29.8 (4s)\n",
      "Dropped column V140 with VIF: 29.4 (4s)\n",
      "Dropped column V251 with VIF: 29.2 (4s)\n",
      "Dropped column V55 with VIF: 28.6 (4s)\n",
      "Dropped column DeviceInfo_nan with VIF: 27.4 (3s)\n",
      "Dropped column D6 with VIF: 26.1 (3s)\n",
      "Dropped column V43 with VIF: 26.0 (3s)\n",
      "Dropped column V259 with VIF: 24.9 (3s)\n",
      "Dropped column V79 with VIF: 24.7 (3s)\n",
      "Dropped column V141 with VIF: 23.9 (3s)\n",
      "Dropped column V22 with VIF: 23.2 (3s)\n",
      "Dropped column id_20 with VIF: 22.2 (3s)\n",
      "Dropped column V302 with VIF: 21.8 (2s)\n",
      "Dropped column V11 with VIF: 21.6 (2s)\n",
      "Dropped column V38 with VIF: 19.9 (2s)\n",
      "Dropped column V59 with VIF: 18.7 (2s)\n",
      "Dropped column V144 with VIF: 18.0 (2s)\n",
      "Dropped column V91 with VIF: 17.8 (2s)\n",
      "Dropped column V171 with VIF: 17.6 (2s)\n",
      "Dropped column M2_T with VIF: 17.4 (2s)\n",
      "Dropped column V260 with VIF: 16.8 (2s)\n",
      "Dropped column D2 with VIF: 16.6 (2s)\n",
      "Dropped column V34 with VIF: 16.5 (2s)\n",
      "Dropped column V81 with VIF: 16.1 (1s)\n",
      "Dropped column V184 with VIF: 15.5 (1s)\n",
      "Dropped column V45 with VIF: 15.1 (1s)\n",
      "Dropped column V229 with VIF: 14.7 (1s)\n",
      "Dropped column V30 with VIF: 14.6 (1s)\n",
      "Dropped column V58 with VIF: 14.3 (1s)\n",
      "Dropped column V32 with VIF: 13.7 (1s)\n",
      "Dropped column V124 with VIF: 13.6 (1s)\n",
      "Dropped column V78 with VIF: 12.6 (1s)\n",
      "Dropped column M4_nan with VIF: 12.6 (1s)\n",
      "Dropped column M8_nan with VIF: 12.1 (1s)\n",
      "Dropped column V52 with VIF: 11.5 (1s)\n",
      "Dropped column V201 with VIF: 10.4 (1s)\n"
     ]
    }
   ],
   "source": [
    "from utils import delete_multicollinearity\n",
    "\n",
    "import warnings\n",
    "warnings.filterwarnings('ignore')\n",
    "\n",
    "df_fraud_preprocessed = delete_multicollinearity(df_sampled, 'isFraud', 10)"
   ]
  },
  {
   "cell_type": "code",
   "execution_count": 37,
   "metadata": {},
   "outputs": [],
   "source": [
    "columns_to_keep = list(df_fraud_preprocessed.columns) + ['isFraud']\n",
    "df_fraud_final = df_fraud_imputed[columns_to_keep]"
   ]
  },
  {
   "cell_type": "code",
   "execution_count": 38,
   "metadata": {},
   "outputs": [
    {
     "data": {
      "text/plain": [
       "(590540, 57)"
      ]
     },
     "execution_count": 38,
     "metadata": {},
     "output_type": "execute_result"
    }
   ],
   "source": [
    "df_fraud_final.shape"
   ]
  },
  {
   "cell_type": "markdown",
   "metadata": {},
   "source": [
    "Now we have 57 columns to train our models."
   ]
  },
  {
   "cell_type": "code",
   "execution_count": 39,
   "metadata": {},
   "outputs": [
    {
     "name": "stdout",
     "output_type": "stream",
     "text": [
      "Index(['isFraud', 'TransactionAmt', 'card1', 'card2', 'card3', 'card5',\n",
      "       'addr1', 'addr2', 'dist1', 'dist2',\n",
      "       ...\n",
      "       'DeviceInfo_verykoolS5524', 'DeviceInfo_verykoolS5525',\n",
      "       'DeviceInfo_verykoolS5530 Build/LMY47I', 'DeviceInfo_verykools4009',\n",
      "       'DeviceInfo_verykools5004', 'DeviceInfo_verykools5034',\n",
      "       'DeviceInfo_verykools5035', 'DeviceInfo_vivo',\n",
      "       'DeviceInfo_xs-Z47b7VqTMxs', 'DeviceInfo_nan'],\n",
      "      dtype='object', length=2832)\n"
     ]
    }
   ],
   "source": [
    "print(df_fraud.columns)"
   ]
  },
  {
   "cell_type": "code",
   "execution_count": 40,
   "metadata": {},
   "outputs": [],
   "source": [
    "df_fraud_final.to_csv('data/data_preprocessed/data_fraud1.csv', index=False)"
   ]
  }
 ],
 "metadata": {
  "kernelspec": {
   "display_name": "ml_venv",
   "language": "python",
   "name": "python3"
  },
  "language_info": {
   "codemirror_mode": {
    "name": "ipython",
    "version": 3
   },
   "file_extension": ".py",
   "mimetype": "text/x-python",
   "name": "python",
   "nbconvert_exporter": "python",
   "pygments_lexer": "ipython3",
   "version": "3.9.18"
  }
 },
 "nbformat": 4,
 "nbformat_minor": 2
}
