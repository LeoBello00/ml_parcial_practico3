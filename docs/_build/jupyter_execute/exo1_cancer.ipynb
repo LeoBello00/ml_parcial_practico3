{
 "cells": [
  {
   "cell_type": "markdown",
   "metadata": {},
   "source": [
    "# Ejercicio 1: Breast cancer"
   ]
  },
  {
   "cell_type": "markdown",
   "metadata": {},
   "source": [
    "In cancer detection, we want to minimize incorrect negative predictions (i.e. the sick patient is classified as negative) because this diagnosis could lead to serious health problems. Therefore, the most important metric in the application of cancer detection is the recall which objective is to limit the number of false negatives."
   ]
  },
  {
   "cell_type": "markdown",
   "metadata": {},
   "source": [
    "## Load data"
   ]
  },
  {
   "cell_type": "code",
   "execution_count": 16,
   "metadata": {},
   "outputs": [],
   "source": [
    "from sklearn.datasets import load_breast_cancer\n",
    "\n",
    "cancer = load_breast_cancer()"
   ]
  },
  {
   "cell_type": "code",
   "execution_count": 17,
   "metadata": {},
   "outputs": [
    {
     "data": {
      "text/plain": [
       "array(['malignant', 'benign'], dtype='<U9')"
      ]
     },
     "execution_count": 17,
     "metadata": {},
     "output_type": "execute_result"
    }
   ],
   "source": [
    "cancer['target_names']"
   ]
  },
  {
   "cell_type": "markdown",
   "metadata": {},
   "source": [
    "**Target**  \n",
    "'0' => malignant/sick  \n",
    "'1' => benign/safe"
   ]
  },
  {
   "cell_type": "markdown",
   "metadata": {},
   "source": [
    "## Preprocessing"
   ]
  },
  {
   "cell_type": "code",
   "execution_count": 18,
   "metadata": {},
   "outputs": [],
   "source": [
    "import pandas as pd\n",
    "from sklearn.model_selection import train_test_split\n",
    "\n",
    "df_cancer = pd.DataFrame(data=cancer['data'], columns=cancer['feature_names'])\n",
    "df_cancer['target'] = cancer['target']\n",
    "\n",
    "X_train, X_test, y_train, y_test = train_test_split(df_cancer.drop('target', axis=1), df_cancer['target'], test_size=0.3, random_state=42)"
   ]
  },
  {
   "cell_type": "code",
   "execution_count": 19,
   "metadata": {},
   "outputs": [],
   "source": [
    "from sklearn.preprocessing import StandardScaler\n",
    "\n",
    "scaler = StandardScaler()\n",
    "X_train_sc = scaler.fit_transform(X_train)\n",
    "X_test_sc = scaler.transform(X_test)"
   ]
  },
  {
   "cell_type": "markdown",
   "metadata": {},
   "source": [
    "## Training"
   ]
  },
  {
   "cell_type": "code",
   "execution_count": 20,
   "metadata": {},
   "outputs": [],
   "source": [
    "from sklearn.svm import SVC\n",
    "from sklearn.preprocessing import MinMaxScaler, StandardScaler\n",
    "\n",
    "nb_col = X_train.shape[1]\n",
    "\n",
    "dict_models = [\n",
    "    {\n",
    "        'name_clf' : 'SVC (poly)',\n",
    "        'model': SVC(random_state=42, kernel='poly'),\n",
    "        'scalers' : {\n",
    "            'scaler': [MinMaxScaler()],\n",
    "        },\n",
    "        'grid' : {\n",
    "            'model__C': [10**k for k in range(-3, 4)],\n",
    "            'model__gamma': [10**k for k in range(-3, 4)],\n",
    "        }\n",
    "    },\n",
    "\n",
    "    {\n",
    "        'name_clf' : 'SVC (linear)',\n",
    "        'model': SVC(random_state=42, kernel='linear'),\n",
    "        'scalers' : {\n",
    "            'scaler': [None, StandardScaler(), MinMaxScaler()],\n",
    "        },\n",
    "        'grid' : {\n",
    "            'model__C': [10**k for k in range(-4, 5)],\n",
    "            'model__gamma': [10**k for k in range(-4, 5)],\n",
    "        }\n",
    "    },\n",
    "\n",
    "    {\n",
    "        'name_clf' : 'SVC (rbf)',\n",
    "        'model': SVC(random_state=42, kernel='rbf'),\n",
    "        'scalers' : {\n",
    "            'scaler': [None, StandardScaler(), MinMaxScaler()],\n",
    "        },\n",
    "        'grid' : {\n",
    "            'model__C': [10**k for k in range(-4, 5)],\n",
    "            'model__gamma': [10**k for k in range(-4, 5)],\n",
    "        }\n",
    "    },\n",
    "\n",
    "    {\n",
    "        'name_clf' : 'SVC (sigmoid)',\n",
    "        'model': SVC(random_state=42, kernel='sigmoid'),\n",
    "        'scalers' : {\n",
    "            'scaler': [None, StandardScaler(), MinMaxScaler()],\n",
    "        },\n",
    "        'grid' : {\n",
    "            'model__C': [10**k for k in range(-4, 5)],\n",
    "            'model__gamma': [10**k for k in range(-4, 5)],\n",
    "        }\n",
    "    },\n",
    "\n",
    "\n",
    "]"
   ]
  },
  {
   "cell_type": "markdown",
   "metadata": {},
   "source": [
    "i had to use only MinMaxScaler with the poly kernel because otherwise it would have taken too much time, in my case it had been running for more than 2 days"
   ]
  },
  {
   "cell_type": "code",
   "execution_count": 21,
   "metadata": {},
   "outputs": [
    {
     "name": "stdout",
     "output_type": "stream",
     "text": [
      "Training SVC (poly)...\n",
      "Best params SVC (poly): \n",
      "{'model__C': 0.1, 'model__gamma': 1, 'scaler': MinMaxScaler()}\n",
      "CPU Time: 1.3s\n",
      "\n",
      "Training SVC (linear)...\n",
      "Best params SVC (linear): \n",
      "{'model__C': 100, 'model__gamma': 0.0001, 'scaler': MinMaxScaler()}\n",
      "CPU Time: 115.4s\n",
      "\n",
      "Training SVC (rbf)...\n",
      "Best params SVC (rbf): \n",
      "{'model__C': 10, 'model__gamma': 0.1, 'scaler': MinMaxScaler()}\n",
      "CPU Time: 1.3s\n",
      "\n",
      "Training SVC (sigmoid)...\n",
      "Best params SVC (sigmoid): \n",
      "{'model__C': 1000, 'model__gamma': 0.01, 'scaler': MinMaxScaler()}\n",
      "CPU Time: 0.9s\n",
      "\n"
     ]
    }
   ],
   "source": [
    "from sklearn.pipeline import Pipeline\n",
    "from sklearn.model_selection import GridSearchCV\n",
    "from time import time\n",
    "from utils import model_evaluation_clf\n",
    "\n",
    "import warnings\n",
    "warnings.filterwarnings(\"ignore\")\n",
    "\n",
    "results = pd.DataFrame(columns=[\"Model\", \"CPU time\", \"Accuracy\", \"Precision\", \"Recall\", \"f1-score\", \"AUC\"])\n",
    "models = {}\n",
    "nb_res = 0\n",
    "\n",
    "for i, dict_clf in enumerate(dict_models):\n",
    "    model_name = dict_clf['name_clf']\n",
    "    print(f'Training {model_name}...')\n",
    "\n",
    "    model = dict_clf['model']\n",
    "\n",
    "    steps = [\n",
    "        ('scaler', None),\n",
    "        ('model', model),\n",
    "    ]\n",
    "\n",
    "    pipeline = Pipeline(steps)\n",
    "\n",
    "    param_grid = {\n",
    "        **dict_clf['scalers'],\n",
    "        **dict_clf['grid']\n",
    "    }\n",
    "\n",
    "    clf = GridSearchCV(pipeline, param_grid=param_grid, cv=5, n_jobs=-1)\n",
    "\n",
    "    start_time = time()\n",
    "    clf.fit(X_train, y_train)\n",
    "    end_time = time()\n",
    "    \n",
    "    print(f\"Best params {model_name}: \\n{clf.best_params_}\")\n",
    "\n",
    "    eval = model_evaluation_clf(clf, X_test, y_test)\n",
    "    \n",
    "    models[model_name] = clf\n",
    "\n",
    "    results.loc[nb_res] = [model_name, round(end_time - start_time, 1), eval['accuracy'], eval['precision'], eval['recall'], eval['f1'], eval['roc_auc']]\n",
    "    nb_res += 1\n",
    "\n",
    "    print(f\"CPU Time: {round(end_time - start_time, 1)}s\")\n",
    "    print()"
   ]
  },
  {
   "cell_type": "markdown",
   "metadata": {},
   "source": [
    "## Results"
   ]
  },
  {
   "cell_type": "code",
   "execution_count": 22,
   "metadata": {},
   "outputs": [
    {
     "name": "stdout",
     "output_type": "stream",
     "text": [
      "        Model  CPU time  Accuracy  Precision  Recall  f1-score   AUC\n",
      "   SVC (poly)       1.3     0.988      0.982   1.000     0.991 0.984\n",
      " SVC (linear)     115.4     0.977      0.981   0.981     0.981 0.975\n",
      "    SVC (rbf)       1.3     0.988      0.982   1.000     0.991 0.984\n",
      "SVC (sigmoid)       0.9     0.982      0.982   0.991     0.986 0.979\n"
     ]
    }
   ],
   "source": [
    "print(results.to_string(index=False))"
   ]
  },
  {
   "cell_type": "markdown",
   "metadata": {},
   "source": [
    "the best model is SVC with rbf kernel because is almost fast as sigmoid but its AUC is the best (with the poly one, but much faster), and has a recall of 1 that is the most important metric in this case"
   ]
  },
  {
   "cell_type": "code",
   "execution_count": 23,
   "metadata": {},
   "outputs": [
    {
     "data": {
      "image/png": "[encoded data removed]",
      "text/plain": [
       "<Figure size 2000x500 with 8 Axes>"
      ]
     },
     "metadata": {},
     "output_type": "display_data"
    }
   ],
   "source": [
    "import matplotlib.pyplot as plt\n",
    "import seaborn as sns\n",
    "from sklearn.metrics import confusion_matrix\n",
    "\n",
    "fig, axs = plt.subplots(1, 4, figsize=(20, 5))\n",
    "\n",
    "for i, model_name in enumerate(models.keys()):\n",
    "    model = models[model_name]\n",
    "    y_pred = model.predict(X_test)\n",
    "    cm = confusion_matrix(y_test, y_pred)\n",
    "    sns.heatmap(cm, annot=True, fmt='d', ax=axs[i])\n",
    "    axs[i].set_title(model_name)\n",
    "\n",
    "plt.show()"
   ]
  },
  {
   "cell_type": "code",
   "execution_count": 24,
   "metadata": {},
   "outputs": [
    {
     "data": {
      "image/png": "[encoded data removed]",
      "text/plain": [
       "<Figure size 500x500 with 1 Axes>"
      ]
     },
     "metadata": {},
     "output_type": "display_data"
    }
   ],
   "source": [
    "import matplotlib.pyplot as plt\n",
    "from sklearn.metrics import roc_curve\n",
    "\n",
    "fig, ax = plt.subplots(figsize=(5, 5))\n",
    "\n",
    "for model_name in models.keys():\n",
    "    model = models[model_name]\n",
    "    y_pred = model.predict(X_test)\n",
    "    fpr, tpr, _ = roc_curve(y_test, y_pred)\n",
    "    ax.plot(fpr, tpr, label=model_name)\n",
    "\n",
    "plt.legend()\n",
    "plt.show()\n"
   ]
  },
  {
   "cell_type": "markdown",
   "metadata": {},
   "source": [
    "very similar AUC-ROC curves because, how we can see, the difference in AUC between the models is less than 0.1"
   ]
  }
 ],
 "metadata": {
  "kernelspec": {
   "display_name": "ml_venv",
   "language": "python",
   "name": "python3"
  },
  "language_info": {
   "codemirror_mode": {
    "name": "ipython",
    "version": 3
   },
   "file_extension": ".py",
   "mimetype": "text/x-python",
   "name": "python",
   "nbconvert_exporter": "python",
   "pygments_lexer": "ipython3",
   "version": "3.9.18"
  }
 },
 "nbformat": 4,
 "nbformat_minor": 2
}