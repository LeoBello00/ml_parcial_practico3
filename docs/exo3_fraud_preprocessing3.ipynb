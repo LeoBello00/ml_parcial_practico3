{
 "cells": [
  {
   "cell_type": "markdown",
   "metadata": {},
   "source": [
    "# Preprocessing fraud dataset"
   ]
  },
  {
   "cell_type": "code",
   "execution_count": 1,
   "metadata": {},
   "outputs": [
    {
     "data": {
      "text/html": [
       "<div>\n",
       "<style scoped>\n",
       "    .dataframe tbody tr th:only-of-type {\n",
       "        vertical-align: middle;\n",
       "    }\n",
       "\n",
       "    .dataframe tbody tr th {\n",
       "        vertical-align: top;\n",
       "    }\n",
       "\n",
       "    .dataframe thead th {\n",
       "        text-align: right;\n",
       "    }\n",
       "</style>\n",
       "<table border=\"1\" class=\"dataframe\">\n",
       "  <thead>\n",
       "    <tr style=\"text-align: right;\">\n",
       "      <th></th>\n",
       "      <th>TransactionID</th>\n",
       "      <th>isFraud</th>\n",
       "      <th>TransactionDT</th>\n",
       "      <th>TransactionAmt</th>\n",
       "      <th>ProductCD</th>\n",
       "      <th>card1</th>\n",
       "      <th>card2</th>\n",
       "      <th>card3</th>\n",
       "      <th>card4</th>\n",
       "      <th>card5</th>\n",
       "      <th>...</th>\n",
       "      <th>id_31</th>\n",
       "      <th>id_32</th>\n",
       "      <th>id_33</th>\n",
       "      <th>id_34</th>\n",
       "      <th>id_35</th>\n",
       "      <th>id_36</th>\n",
       "      <th>id_37</th>\n",
       "      <th>id_38</th>\n",
       "      <th>DeviceType</th>\n",
       "      <th>DeviceInfo</th>\n",
       "    </tr>\n",
       "  </thead>\n",
       "  <tbody>\n",
       "    <tr>\n",
       "      <th>0</th>\n",
       "      <td>2987000</td>\n",
       "      <td>0</td>\n",
       "      <td>86400</td>\n",
       "      <td>68.5</td>\n",
       "      <td>W</td>\n",
       "      <td>13926</td>\n",
       "      <td>NaN</td>\n",
       "      <td>150.0</td>\n",
       "      <td>discover</td>\n",
       "      <td>142.0</td>\n",
       "      <td>...</td>\n",
       "      <td>NaN</td>\n",
       "      <td>NaN</td>\n",
       "      <td>NaN</td>\n",
       "      <td>NaN</td>\n",
       "      <td>NaN</td>\n",
       "      <td>NaN</td>\n",
       "      <td>NaN</td>\n",
       "      <td>NaN</td>\n",
       "      <td>NaN</td>\n",
       "      <td>NaN</td>\n",
       "    </tr>\n",
       "    <tr>\n",
       "      <th>1</th>\n",
       "      <td>2987001</td>\n",
       "      <td>0</td>\n",
       "      <td>86401</td>\n",
       "      <td>29.0</td>\n",
       "      <td>W</td>\n",
       "      <td>2755</td>\n",
       "      <td>404.0</td>\n",
       "      <td>150.0</td>\n",
       "      <td>mastercard</td>\n",
       "      <td>102.0</td>\n",
       "      <td>...</td>\n",
       "      <td>NaN</td>\n",
       "      <td>NaN</td>\n",
       "      <td>NaN</td>\n",
       "      <td>NaN</td>\n",
       "      <td>NaN</td>\n",
       "      <td>NaN</td>\n",
       "      <td>NaN</td>\n",
       "      <td>NaN</td>\n",
       "      <td>NaN</td>\n",
       "      <td>NaN</td>\n",
       "    </tr>\n",
       "    <tr>\n",
       "      <th>2</th>\n",
       "      <td>2987002</td>\n",
       "      <td>0</td>\n",
       "      <td>86469</td>\n",
       "      <td>59.0</td>\n",
       "      <td>W</td>\n",
       "      <td>4663</td>\n",
       "      <td>490.0</td>\n",
       "      <td>150.0</td>\n",
       "      <td>visa</td>\n",
       "      <td>166.0</td>\n",
       "      <td>...</td>\n",
       "      <td>NaN</td>\n",
       "      <td>NaN</td>\n",
       "      <td>NaN</td>\n",
       "      <td>NaN</td>\n",
       "      <td>NaN</td>\n",
       "      <td>NaN</td>\n",
       "      <td>NaN</td>\n",
       "      <td>NaN</td>\n",
       "      <td>NaN</td>\n",
       "      <td>NaN</td>\n",
       "    </tr>\n",
       "    <tr>\n",
       "      <th>3</th>\n",
       "      <td>2987003</td>\n",
       "      <td>0</td>\n",
       "      <td>86499</td>\n",
       "      <td>50.0</td>\n",
       "      <td>W</td>\n",
       "      <td>18132</td>\n",
       "      <td>567.0</td>\n",
       "      <td>150.0</td>\n",
       "      <td>mastercard</td>\n",
       "      <td>117.0</td>\n",
       "      <td>...</td>\n",
       "      <td>NaN</td>\n",
       "      <td>NaN</td>\n",
       "      <td>NaN</td>\n",
       "      <td>NaN</td>\n",
       "      <td>NaN</td>\n",
       "      <td>NaN</td>\n",
       "      <td>NaN</td>\n",
       "      <td>NaN</td>\n",
       "      <td>NaN</td>\n",
       "      <td>NaN</td>\n",
       "    </tr>\n",
       "    <tr>\n",
       "      <th>4</th>\n",
       "      <td>2987004</td>\n",
       "      <td>0</td>\n",
       "      <td>86506</td>\n",
       "      <td>50.0</td>\n",
       "      <td>H</td>\n",
       "      <td>4497</td>\n",
       "      <td>514.0</td>\n",
       "      <td>150.0</td>\n",
       "      <td>mastercard</td>\n",
       "      <td>102.0</td>\n",
       "      <td>...</td>\n",
       "      <td>samsung browser 6.2</td>\n",
       "      <td>32.0</td>\n",
       "      <td>2220x1080</td>\n",
       "      <td>match_status:2</td>\n",
       "      <td>T</td>\n",
       "      <td>F</td>\n",
       "      <td>T</td>\n",
       "      <td>T</td>\n",
       "      <td>mobile</td>\n",
       "      <td>SAMSUNG SM-G892A Build/NRD90M</td>\n",
       "    </tr>\n",
       "  </tbody>\n",
       "</table>\n",
       "<p>5 rows × 434 columns</p>\n",
       "</div>"
      ],
      "text/plain": [
       "   TransactionID  isFraud  TransactionDT  TransactionAmt ProductCD  card1  \\\n",
       "0        2987000        0          86400            68.5         W  13926   \n",
       "1        2987001        0          86401            29.0         W   2755   \n",
       "2        2987002        0          86469            59.0         W   4663   \n",
       "3        2987003        0          86499            50.0         W  18132   \n",
       "4        2987004        0          86506            50.0         H   4497   \n",
       "\n",
       "   card2  card3       card4  card5  ...                id_31  id_32  \\\n",
       "0    NaN  150.0    discover  142.0  ...                  NaN    NaN   \n",
       "1  404.0  150.0  mastercard  102.0  ...                  NaN    NaN   \n",
       "2  490.0  150.0        visa  166.0  ...                  NaN    NaN   \n",
       "3  567.0  150.0  mastercard  117.0  ...                  NaN    NaN   \n",
       "4  514.0  150.0  mastercard  102.0  ...  samsung browser 6.2   32.0   \n",
       "\n",
       "       id_33           id_34  id_35 id_36 id_37  id_38  DeviceType  \\\n",
       "0        NaN             NaN    NaN   NaN   NaN    NaN         NaN   \n",
       "1        NaN             NaN    NaN   NaN   NaN    NaN         NaN   \n",
       "2        NaN             NaN    NaN   NaN   NaN    NaN         NaN   \n",
       "3        NaN             NaN    NaN   NaN   NaN    NaN         NaN   \n",
       "4  2220x1080  match_status:2      T     F     T      T      mobile   \n",
       "\n",
       "                      DeviceInfo  \n",
       "0                            NaN  \n",
       "1                            NaN  \n",
       "2                            NaN  \n",
       "3                            NaN  \n",
       "4  SAMSUNG SM-G892A Build/NRD90M  \n",
       "\n",
       "[5 rows x 434 columns]"
      ]
     },
     "execution_count": 1,
     "metadata": {},
     "output_type": "execute_result"
    }
   ],
   "source": [
    "import pandas as pd\n",
    "\n",
    "df_fraud = pd.read_csv('../data/data_fraud.csv')\n",
    "df_fraud.head()"
   ]
  },
  {
   "cell_type": "code",
   "execution_count": 2,
   "metadata": {},
   "outputs": [],
   "source": [
    "df_fraud.drop(columns=['TransactionID', 'TransactionDT'], inplace=True)"
   ]
  },
  {
   "cell_type": "code",
   "execution_count": 3,
   "metadata": {},
   "outputs": [],
   "source": [
    "missing_data_count = df_fraud.isnull().sum()\n",
    "missing_data_percentage = round((missing_data_count / len(df_fraud)) * 100, 1)\n",
    "\n",
    "missing_data_stats = pd.DataFrame({\n",
    "    'Missing data (count)': missing_data_count,\n",
    "    'Missing data (%)': missing_data_percentage\n",
    "})\n",
    "\n",
    "missing_data_stats.sort_values(by='Missing data (%)', ascending=False, inplace=True)"
   ]
  },
  {
   "cell_type": "code",
   "execution_count": 4,
   "metadata": {},
   "outputs": [],
   "source": [
    "col2drop = missing_data_percentage[missing_data_percentage > 75].index\n",
    "df_fraud.drop(columns=col2drop, inplace=True)"
   ]
  },
  {
   "cell_type": "markdown",
   "metadata": {},
   "source": [
    "We have a lot of object columns, which we will need to convert to numerical columns."
   ]
  },
  {
   "cell_type": "code",
   "execution_count": 5,
   "metadata": {},
   "outputs": [
    {
     "data": {
      "text/plain": [
       "P_emaildomain    59\n",
       "ProductCD         5\n",
       "card4             4\n",
       "card6             4\n",
       "M4                3\n",
       "M1                2\n",
       "M2                2\n",
       "M3                2\n",
       "M5                2\n",
       "M6                2\n",
       "M7                2\n",
       "M8                2\n",
       "M9                2\n",
       "dtype: int64"
      ]
     },
     "execution_count": 5,
     "metadata": {},
     "output_type": "execute_result"
    }
   ],
   "source": [
    "object_df = df_fraud.select_dtypes(include=['object'])\n",
    "\n",
    "object_df.nunique().sort_values(ascending=False)"
   ]
  },
  {
   "cell_type": "markdown",
   "metadata": {},
   "source": [
    "## Encoding"
   ]
  },
  {
   "cell_type": "markdown",
   "metadata": {},
   "source": [
    "To encode object data, we use a OneHotEncoder"
   ]
  },
  {
   "cell_type": "code",
   "execution_count": 6,
   "metadata": {},
   "outputs": [],
   "source": [
    "from sklearn.preprocessing import OneHotEncoder\n",
    "\n",
    "object_df = df_fraud.select_dtypes(include=['object'])\n",
    "\n",
    "encoder = OneHotEncoder(drop='first')\n",
    "encoded_data = encoder.fit_transform(object_df)\n",
    "\n",
    "categories = encoder.categories_\n",
    "\n",
    "encoded_columns = []\n",
    "for i, col in enumerate(object_df.columns):\n",
    "    encoded_columns.extend([f\"{col}_{category}\" for category in categories[i][1:]])\n",
    "\n",
    "encoded_df = pd.DataFrame(encoded_data.toarray(), columns=encoded_columns)\n",
    "\n",
    "df_fraud = df_fraud.drop(columns=object_df.columns)\n",
    "df_fraud = pd.concat([df_fraud, encoded_df], axis=1)"
   ]
  },
  {
   "cell_type": "code",
   "execution_count": 7,
   "metadata": {},
   "outputs": [
    {
     "data": {
      "text/plain": [
       "(590540, 301)"
      ]
     },
     "execution_count": 7,
     "metadata": {},
     "output_type": "execute_result"
    }
   ],
   "source": [
    "df_fraud.shape"
   ]
  },
  {
   "cell_type": "markdown",
   "metadata": {},
   "source": [
    "## Imputation"
   ]
  },
  {
   "cell_type": "code",
   "execution_count": 8,
   "metadata": {},
   "outputs": [],
   "source": [
    "from sklearn.model_selection import train_test_split\n",
    "\n",
    "df_fraud = df_fraud.sample(frac=1, random_state=42)\n",
    "\n",
    "X = df_fraud.drop('isFraud', axis=1)\n",
    "y = df_fraud['isFraud']\n",
    "\n",
    "X_train, X_test, y_train, y_test = train_test_split(X, y, test_size=0.2, random_state=42)\n",
    "df_train = pd.concat([X_train, y_train], axis=1)\n",
    "X_dev, X_test, y_dev, y_test = train_test_split(X_test, y_test, test_size=0.5, random_state=42)\n",
    "df_dev = pd.concat([X_dev, y_dev], axis=1)\n",
    "df_test = pd.concat([X_test, y_test], axis=1)"
   ]
  },
  {
   "cell_type": "markdown",
   "metadata": {},
   "source": [
    "### Evaluation of the imputation"
   ]
  },
  {
   "cell_type": "code",
   "execution_count": 11,
   "metadata": {},
   "outputs": [
    {
     "name": "stdout",
     "output_type": "stream",
     "text": [
      "n_nearest_features: 5, max_iter: 5\n"
     ]
    },
    {
     "name": "stderr",
     "output_type": "stream",
     "text": [
      "/home/celien/miniconda3/envs/ml_venv/lib/python3.9/site-packages/sklearn/impute/_iterative.py:801: ConvergenceWarning: [IterativeImputer] Early stopping criterion not reached.\n",
      "  warnings.warn(\n"
     ]
    },
    {
     "name": "stdout",
     "output_type": "stream",
     "text": [
      "recall: 0.254 (311.9s)\n",
      "\n",
      "n_nearest_features: 10, max_iter: 5\n"
     ]
    },
    {
     "name": "stderr",
     "output_type": "stream",
     "text": [
      "/home/celien/miniconda3/envs/ml_venv/lib/python3.9/site-packages/sklearn/impute/_iterative.py:801: ConvergenceWarning: [IterativeImputer] Early stopping criterion not reached.\n",
      "  warnings.warn(\n"
     ]
    },
    {
     "name": "stdout",
     "output_type": "stream",
     "text": [
      "recall: 0.252 (448.2s)\n",
      "\n",
      "n_nearest_features: 20, max_iter: 5\n"
     ]
    },
    {
     "name": "stderr",
     "output_type": "stream",
     "text": [
      "/home/celien/miniconda3/envs/ml_venv/lib/python3.9/site-packages/sklearn/impute/_iterative.py:801: ConvergenceWarning: [IterativeImputer] Early stopping criterion not reached.\n",
      "  warnings.warn(\n"
     ]
    },
    {
     "name": "stdout",
     "output_type": "stream",
     "text": [
      "recall: 0.256 (699.6s)\n",
      "\n",
      "n_nearest_features: 50, max_iter: 5\n"
     ]
    },
    {
     "name": "stderr",
     "output_type": "stream",
     "text": [
      "/home/celien/miniconda3/envs/ml_venv/lib/python3.9/site-packages/sklearn/impute/_iterative.py:801: ConvergenceWarning: [IterativeImputer] Early stopping criterion not reached.\n",
      "  warnings.warn(\n"
     ]
    },
    {
     "name": "stdout",
     "output_type": "stream",
     "text": [
      "recall: 0.253 (2091.7s)\n",
      "\n",
      "n_nearest_features: 5, max_iter: 10\n"
     ]
    },
    {
     "name": "stderr",
     "output_type": "stream",
     "text": [
      "/home/celien/miniconda3/envs/ml_venv/lib/python3.9/site-packages/sklearn/impute/_iterative.py:801: ConvergenceWarning: [IterativeImputer] Early stopping criterion not reached.\n",
      "  warnings.warn(\n"
     ]
    },
    {
     "name": "stdout",
     "output_type": "stream",
     "text": [
      "recall: 0.251 (483.0s)\n",
      "\n",
      "n_nearest_features: 10, max_iter: 10\n"
     ]
    },
    {
     "name": "stderr",
     "output_type": "stream",
     "text": [
      "/home/celien/miniconda3/envs/ml_venv/lib/python3.9/site-packages/sklearn/impute/_iterative.py:801: ConvergenceWarning: [IterativeImputer] Early stopping criterion not reached.\n",
      "  warnings.warn(\n"
     ]
    },
    {
     "name": "stdout",
     "output_type": "stream",
     "text": [
      "recall: 0.246 (741.3s)\n",
      "\n",
      "n_nearest_features: 20, max_iter: 10\n"
     ]
    },
    {
     "name": "stderr",
     "output_type": "stream",
     "text": [
      "/home/celien/miniconda3/envs/ml_venv/lib/python3.9/site-packages/sklearn/impute/_iterative.py:801: ConvergenceWarning: [IterativeImputer] Early stopping criterion not reached.\n",
      "  warnings.warn(\n"
     ]
    },
    {
     "name": "stdout",
     "output_type": "stream",
     "text": [
      "recall: 0.255 (1108.5s)\n",
      "\n",
      "n_nearest_features: 50, max_iter: 10\n"
     ]
    },
    {
     "name": "stderr",
     "output_type": "stream",
     "text": [
      "/home/celien/miniconda3/envs/ml_venv/lib/python3.9/site-packages/sklearn/impute/_iterative.py:801: ConvergenceWarning: [IterativeImputer] Early stopping criterion not reached.\n",
      "  warnings.warn(\n"
     ]
    },
    {
     "name": "stdout",
     "output_type": "stream",
     "text": [
      "recall: 0.247 (3915.4s)\n",
      "\n",
      "n_nearest_features: 5, max_iter: 20\n"
     ]
    },
    {
     "name": "stderr",
     "output_type": "stream",
     "text": [
      "/home/celien/miniconda3/envs/ml_venv/lib/python3.9/site-packages/sklearn/impute/_iterative.py:801: ConvergenceWarning: [IterativeImputer] Early stopping criterion not reached.\n",
      "  warnings.warn(\n"
     ]
    },
    {
     "name": "stdout",
     "output_type": "stream",
     "text": [
      "recall: 0.248 (928.5s)\n",
      "\n",
      "n_nearest_features: 10, max_iter: 20\n"
     ]
    },
    {
     "name": "stderr",
     "output_type": "stream",
     "text": [
      "/home/celien/miniconda3/envs/ml_venv/lib/python3.9/site-packages/sklearn/impute/_iterative.py:801: ConvergenceWarning: [IterativeImputer] Early stopping criterion not reached.\n",
      "  warnings.warn(\n"
     ]
    },
    {
     "name": "stdout",
     "output_type": "stream",
     "text": [
      "recall: 0.242 (1419.1s)\n",
      "\n",
      "n_nearest_features: 20, max_iter: 20\n"
     ]
    },
    {
     "name": "stderr",
     "output_type": "stream",
     "text": [
      "/home/celien/miniconda3/envs/ml_venv/lib/python3.9/site-packages/sklearn/impute/_iterative.py:801: ConvergenceWarning: [IterativeImputer] Early stopping criterion not reached.\n",
      "  warnings.warn(\n"
     ]
    },
    {
     "name": "stdout",
     "output_type": "stream",
     "text": [
      "recall: 0.247 (2116.4s)\n",
      "\n",
      "n_nearest_features: 50, max_iter: 20\n"
     ]
    },
    {
     "name": "stderr",
     "output_type": "stream",
     "text": [
      "/home/celien/miniconda3/envs/ml_venv/lib/python3.9/site-packages/sklearn/impute/_iterative.py:801: ConvergenceWarning: [IterativeImputer] Early stopping criterion not reached.\n",
      "  warnings.warn(\n"
     ]
    },
    {
     "name": "stdout",
     "output_type": "stream",
     "text": [
      "recall: 0.256 (12304.0s)\n",
      "\n",
      "n_nearest_features: 5, max_iter: 50\n"
     ]
    },
    {
     "name": "stderr",
     "output_type": "stream",
     "text": [
      "/home/celien/miniconda3/envs/ml_venv/lib/python3.9/site-packages/sklearn/impute/_iterative.py:801: ConvergenceWarning: [IterativeImputer] Early stopping criterion not reached.\n",
      "  warnings.warn(\n"
     ]
    },
    {
     "name": "stdout",
     "output_type": "stream",
     "text": [
      "recall: 0.258 (2333.4s)\n",
      "\n",
      "n_nearest_features: 10, max_iter: 50\n"
     ]
    },
    {
     "name": "stderr",
     "output_type": "stream",
     "text": [
      "/home/celien/miniconda3/envs/ml_venv/lib/python3.9/site-packages/sklearn/impute/_iterative.py:801: ConvergenceWarning: [IterativeImputer] Early stopping criterion not reached.\n",
      "  warnings.warn(\n"
     ]
    },
    {
     "name": "stdout",
     "output_type": "stream",
     "text": [
      "recall: 0.245 (3506.1s)\n",
      "\n",
      "n_nearest_features: 20, max_iter: 50\n"
     ]
    },
    {
     "name": "stderr",
     "output_type": "stream",
     "text": [
      "/home/celien/miniconda3/envs/ml_venv/lib/python3.9/site-packages/sklearn/impute/_iterative.py:801: ConvergenceWarning: [IterativeImputer] Early stopping criterion not reached.\n",
      "  warnings.warn(\n"
     ]
    },
    {
     "name": "stdout",
     "output_type": "stream",
     "text": [
      "recall: 0.247 (5216.3s)\n",
      "\n",
      "n_nearest_features: 50, max_iter: 50\n"
     ]
    },
    {
     "name": "stderr",
     "output_type": "stream",
     "text": [
      "/home/celien/miniconda3/envs/ml_venv/lib/python3.9/site-packages/sklearn/impute/_iterative.py:801: ConvergenceWarning: [IterativeImputer] Early stopping criterion not reached.\n",
      "  warnings.warn(\n"
     ]
    },
    {
     "name": "stdout",
     "output_type": "stream",
     "text": [
      "recall: 0.24 (19058.4s)\n",
      "\n"
     ]
    }
   ],
   "source": [
    "from sklearn.ensemble import RandomForestClassifier\n",
    "from sklearn.experimental import enable_iterative_imputer\n",
    "from sklearn.impute import IterativeImputer\n",
    "from sklearn.pipeline import Pipeline\n",
    "from sklearn.metrics import recall_score\n",
    "from time import time\n",
    "\n",
    "features = [5, 10, 20, 50]\n",
    "iters = [5, 10, 20, 50]\n",
    "\n",
    "for max_iter in iters:\n",
    "    for n_nearest_features in features:\n",
    "        print(f\"n_nearest_features: {n_nearest_features}, max_iter: {max_iter}\")\n",
    "        imputer = IterativeImputer(n_nearest_features=n_nearest_features, max_iter=max_iter, random_state=42)\n",
    "        pipeline = Pipeline(steps=[('i', imputer), ('m', RandomForestClassifier(n_estimators=20, max_depth=10, random_state=42))])\n",
    "        start = time()\n",
    "        pipeline.fit(X_train, y_train)\n",
    "        end = time()\n",
    "        y_pred = pipeline.predict(X_dev)\n",
    "        recall = recall_score(y_dev, y_pred)\n",
    "        print(f\"recall: {round(recall, 3)} ({round(end - start, 1)}s)\")\n",
    "        print()"
   ]
  },
  {
   "cell_type": "code",
   "execution_count": 9,
   "metadata": {},
   "outputs": [],
   "source": [
    "from sklearn.experimental import enable_iterative_imputer\n",
    "from sklearn.impute import IterativeImputer\n",
    "\n",
    "import warnings\n",
    "warnings.filterwarnings('ignore')\n",
    "\n",
    "imputer = IterativeImputer(n_nearest_features=5, max_iter=20, random_state=42)\n",
    "imputer.fit(df_train)\n",
    "df_train_imputed = pd.DataFrame(imputer.transform(df_train), columns=df_train.columns)\n",
    "df_test_imputed = pd.DataFrame(imputer.transform(df_test), columns=df_test.columns)"
   ]
  },
  {
   "cell_type": "markdown",
   "metadata": {},
   "source": [
    "## Delete multicolinearity with VIF"
   ]
  },
  {
   "cell_type": "code",
   "execution_count": 10,
   "metadata": {},
   "outputs": [],
   "source": [
    "df_sampled = df_train_imputed.sample(frac=1, random_state=42)\n",
    "\n",
    "cols_V = [col for col in df_sampled.columns if col.startswith('V')] + ['isFraud']\n",
    "cols_card = [col for col in df_sampled.columns if col.startswith('card')] + ['isFraud']\n",
    "cols_C = [col for col in df_sampled.columns if col.startswith('C')] + ['isFraud']\n",
    "cols_D = [col for col in df_sampled.columns if col.startswith('D')] + ['isFraud']\n",
    "cols_M = [col for col in df_sampled.columns if col.startswith('M')] + ['isFraud']\n",
    "\n",
    "df_card = df_sampled[[col for col in df_sampled.columns if col.startswith('card')] + ['isFraud']]\n",
    "df_C = df_sampled[[col for col in df_sampled.columns if col.startswith('C')] + ['isFraud']]\n",
    "df_D = df_sampled[[col for col in df_sampled.columns if col.startswith('D')] + ['isFraud']]\n",
    "df_M = df_sampled[[col for col in df_sampled.columns if col.startswith('M')] + ['isFraud']]\n",
    "df_V_0to20 = df_sampled[cols_V[:20] + ['isFraud']]\n",
    "df_V_21to40 = df_sampled[cols_V[20:40] + ['isFraud']]\n",
    "df_V_41to60 = df_sampled[cols_V[40:60] + ['isFraud']]\n",
    "df_V_61to80 = df_sampled[cols_V[60:80] + ['isFraud']]\n",
    "df_V_81to100 = df_sampled[cols_V[80:100] + ['isFraud']]\n",
    "df_V_101to120 = df_sampled[cols_V[100:120] + ['isFraud']]\n",
    "df_V_121to140 = df_sampled[cols_V[120:140] + ['isFraud']]\n",
    "df_V_141to160 = df_sampled[cols_V[140:160] + ['isFraud']]\n",
    "df_V_161to180 = df_sampled[cols_V[160:] + ['isFraud']]"
   ]
  },
  {
   "cell_type": "code",
   "execution_count": 11,
   "metadata": {},
   "outputs": [
    {
     "name": "stdout",
     "output_type": "stream",
     "text": [
      "Dropped column card6_debit with VIF: 226.5 (3s)\n",
      "Dropped column card4_nan with VIF: 88.5 (2s)\n",
      "Dropped column card3 with VIF: 68.2 (2s)\n",
      "Dropped column card5 with VIF: 23.7 (2s)\n",
      "Dropped column card4_visa with VIF: 6.5 (1s)\n",
      "Dropped column C12 with VIF: 4159.0 (4s)\n",
      "Dropped column C11 with VIF: 1699.0 (3s)\n",
      "Dropped column C8 with VIF: 1240.1 (2s)\n",
      "Dropped column C4 with VIF: 552.5 (2s)\n",
      "Dropped column C10 with VIF: 340.4 (1s)\n",
      "Dropped column C6 with VIF: 264.4 (1s)\n",
      "Dropped column C1 with VIF: 180.0 (1s)\n",
      "Dropped column C2 with VIF: 79.2 (0s)\n",
      "Dropped column C13 with VIF: 35.3 (0s)\n",
      "Dropped column C9 with VIF: 8.0 (0s)\n",
      "Dropped column D2 with VIF: 7.4 (1s)\n",
      "Dropped column D15 with VIF: 5.6 (0s)\n",
      "Dropped column M1_nan with VIF: inf (9s)\n",
      "Dropped column M9_nan with VIF: inf (8s)\n",
      "Dropped column M2_nan with VIF: inf (7s)\n",
      "Dropped column M8_nan with VIF: 23104.7 (6s)\n",
      "Dropped column M5_nan with VIF: 27.2 (4s)\n",
      "Dropped column M2_T with VIF: 18.6 (4s)\n",
      "Dropped column M3_nan with VIF: 14.5 (3s)\n",
      "Dropped column M1_T with VIF: 7.0 (2s)\n"
     ]
    }
   ],
   "source": [
    "from utils import delete_multicollinearity\n",
    "\n",
    "import warnings\n",
    "warnings.filterwarnings('ignore')\n",
    "\n",
    "col2keep = ['isFraud']\n",
    "\n",
    "col2keep += delete_multicollinearity(df_card, 'isFraud', 5).columns.tolist()\n",
    "col2keep += delete_multicollinearity(df_C, 'isFraud', 5).columns.tolist()\n",
    "col2keep += delete_multicollinearity(df_D, 'isFraud', 5).columns.tolist()\n",
    "col2keep += delete_multicollinearity(df_M, 'isFraud', 5).columns.tolist()"
   ]
  },
  {
   "cell_type": "code",
   "execution_count": 12,
   "metadata": {},
   "outputs": [
    {
     "name": "stdout",
     "output_type": "stream",
     "text": [
      "Dropped column V1 with VIF: 5000.4 (11s)\n",
      "Dropped column V8 with VIF: 348.6 (10s)\n",
      "Dropped column V9 with VIF: 81.9 (8s)\n",
      "Dropped column V6 with VIF: 72.4 (7s)\n",
      "Dropped column V17 with VIF: 47.2 (6s)\n",
      "Dropped column V2 with VIF: 45.7 (5s)\n",
      "Dropped column V15 with VIF: 35.5 (4s)\n",
      "Dropped column V19 with VIF: 33.2 (3s)\n",
      "Dropped column V4 with VIF: 24.7 (2s)\n",
      "Dropped column V14 with VIF: 21.5 (2s)\n",
      "Dropped column V10 with VIF: 19.8 (1s)\n",
      "Dropped column V13 with VIF: 16.0 (1s)\n",
      "Dropped column V5 with VIF: 10.1 (1s)\n",
      "Dropped column V7 with VIF: 7.0 (0s)\n",
      "Dropped column V25 with VIF: 125.4 (11s)\n",
      "Dropped column V31 with VIF: 88.1 (9s)\n",
      "Dropped column V23 with VIF: 57.8 (8s)\n",
      "Dropped column V21 with VIF: 21.5 (7s)\n",
      "Dropped column V27 with VIF: 20.7 (6s)\n",
      "Dropped column V29 with VIF: 20.3 (4s)\n",
      "Dropped column V37 with VIF: 20.0 (4s)\n",
      "Dropped column V39 with VIF: 17.2 (3s)\n",
      "Dropped column V26 with VIF: 15.4 (2s)\n",
      "Dropped column V34 with VIF: 14.6 (2s)\n",
      "Dropped column V36 with VIF: 13.3 (1s)\n",
      "Dropped column V32 with VIF: 8.3 (1s)\n",
      "Dropped column V24 with VIF: 5.3 (1s)\n",
      "Dropped column V46 with VIF: 155.0 (12s)\n",
      "Dropped column V41 with VIF: 46.0 (11s)\n",
      "Dropped column V57 with VIF: 34.1 (8s)\n",
      "Dropped column V42 with VIF: 32.8 (7s)\n",
      "Dropped column V48 with VIF: 32.3 (6s)\n",
      "Dropped column V44 with VIF: 29.6 (4s)\n",
      "Dropped column V59 with VIF: 23.6 (4s)\n",
      "Dropped column V55 with VIF: 17.7 (3s)\n",
      "Dropped column V54 with VIF: 15.7 (2s)\n",
      "Dropped column V47 with VIF: 12.4 (2s)\n",
      "Dropped column V50 with VIF: 11.4 (1s)\n",
      "Dropped column V51 with VIF: 8.2 (1s)\n",
      "Dropped column V60 with VIF: 6.6 (1s)\n",
      "Dropped column V58 with VIF: 5.5 (0s)\n",
      "Dropped column V66 with VIF: 103.9 (10s)\n",
      "Dropped column V71 with VIF: 34.6 (9s)\n",
      "Dropped column V65 with VIF: 29.5 (8s)\n",
      "Dropped column V61 with VIF: 26.7 (7s)\n",
      "Dropped column V73 with VIF: 19.4 (6s)\n",
      "Dropped column V76 with VIF: 14.6 (4s)\n",
      "Dropped column V63 with VIF: 14.6 (4s)\n",
      "Dropped column V77 with VIF: 13.3 (3s)\n",
      "Dropped column V69 with VIF: 12.0 (2s)\n",
      "Dropped column V72 with VIF: 11.0 (2s)\n",
      "Dropped column V67 with VIF: 10.0 (1s)\n",
      "Dropped column V79 with VIF: 5.7 (1s)\n",
      "Dropped column V64 with VIF: 5.4 (1s)\n",
      "Dropped column V96 with VIF: 67.5 (11s)\n",
      "Dropped column V86 with VIF: 30.7 (9s)\n",
      "Dropped column V82 with VIF: 30.3 (8s)\n",
      "Dropped column V92 with VIF: 27.2 (7s)\n",
      "Dropped column V90 with VIF: 16.0 (6s)\n",
      "Dropped column V84 with VIF: 12.1 (4s)\n",
      "Dropped column V88 with VIF: 11.1 (4s)\n",
      "Dropped column V97 with VIF: 8.9 (3s)\n",
      "Dropped column V85 with VIF: 8.2 (2s)\n",
      "Dropped column V93 with VIF: 6.4 (2s)\n",
      "Dropped column V117 with VIF: 4786.1 (10s)\n",
      "Dropped column V119 with VIF: 2493.9 (9s)\n",
      "Dropped column V113 with VIF: 1996.0 (8s)\n",
      "Dropped column V107 with VIF: 1203.2 (7s)\n",
      "Dropped column V108 with VIF: 1078.6 (5s)\n",
      "Dropped column V111 with VIF: 744.5 (5s)\n",
      "Dropped column V120 with VIF: 516.0 (4s)\n",
      "Dropped column V110 with VIF: 484.2 (3s)\n",
      "Dropped column V114 with VIF: 252.0 (2s)\n",
      "Dropped column V112 with VIF: 186.9 (2s)\n",
      "Dropped column V116 with VIF: 119.9 (1s)\n",
      "Dropped column V109 with VIF: 118.4 (1s)\n",
      "Dropped column V102 with VIF: 92.1 (1s)\n",
      "Dropped column V115 with VIF: 32.7 (0s)\n",
      "Dropped column V106 with VIF: 30.3 (0s)\n",
      "Dropped column V103 with VIF: 28.3 (0s)\n",
      "Dropped column V105 with VIF: 5.4 (0s)\n",
      "Dropped column V127 with VIF: 13458.5 (10s)\n",
      "Dropped column V128 with VIF: 5129.6 (9s)\n",
      "Dropped column V132 with VIF: 1135.0 (8s)\n",
      "Dropped column V122 with VIF: 452.7 (7s)\n",
      "Dropped column V126 with VIF: 170.0 (6s)\n",
      "Dropped column V134 with VIF: 98.5 (4s)\n",
      "Dropped column V125 with VIF: 91.2 (4s)\n",
      "Dropped column V137 with VIF: 42.4 (3s)\n",
      "Dropped column V123 with VIF: 35.3 (2s)\n",
      "Dropped column V133 with VIF: 26.2 (2s)\n",
      "Dropped column V280 with VIF: 14.6 (1s)\n",
      "Dropped column V124 with VIF: 11.6 (1s)\n",
      "Dropped column V136 with VIF: 6.7 (1s)\n",
      "Dropped column V131 with VIF: 5.0 (0s)\n",
      "Dropped column V298 with VIF: 110.3 (11s)\n",
      "Dropped column V294 with VIF: 85.3 (9s)\n",
      "Dropped column V292 with VIF: 26.4 (8s)\n",
      "Dropped column V295 with VIF: 21.3 (7s)\n",
      "Dropped column V299 with VIF: 17.5 (6s)\n",
      "Dropped column V300 with VIF: 8.0 (5s)\n",
      "Dropped column V289 with VIF: 7.4 (4s)\n",
      "Dropped column V307 with VIF: 272190.0 (11s)\n",
      "Dropped column V308 with VIF: 4338.5 (9s)\n",
      "Dropped column V306 with VIF: 861.7 (8s)\n",
      "Dropped column V304 with VIF: 37.4 (7s)\n",
      "Dropped column V321 with VIF: 35.1 (6s)\n",
      "Dropped column V318 with VIF: 30.1 (4s)\n",
      "Dropped column V315 with VIF: 10.9 (4s)\n",
      "Dropped column V317 with VIF: 9.0 (3s)\n",
      "Dropped column V309 with VIF: 7.3 (2s)\n",
      "Dropped column V320 with VIF: 6.6 (2s)\n",
      "Dropped column V302 with VIF: 5.9 (1s)\n"
     ]
    }
   ],
   "source": [
    "col2keep_V = ['isFraud']\n",
    "\n",
    "col2keep_V += delete_multicollinearity(df_V_0to20, 'isFraud', 5).columns.tolist()\n",
    "col2keep_V += delete_multicollinearity(df_V_21to40, 'isFraud', 5).columns.tolist()\n",
    "col2keep_V += delete_multicollinearity(df_V_41to60, 'isFraud', 5).columns.tolist()\n",
    "col2keep_V += delete_multicollinearity(df_V_61to80, 'isFraud', 5).columns.tolist()\n",
    "col2keep_V += delete_multicollinearity(df_V_81to100, 'isFraud', 5).columns.tolist()\n",
    "col2keep_V += delete_multicollinearity(df_V_101to120, 'isFraud', 5).columns.tolist()\n",
    "col2keep_V += delete_multicollinearity(df_V_121to140, 'isFraud', 5).columns.tolist()\n",
    "col2keep_V += delete_multicollinearity(df_V_141to160, 'isFraud', 5).columns.tolist()\n",
    "col2keep_V += delete_multicollinearity(df_V_161to180, 'isFraud', 5).columns.tolist()"
   ]
  },
  {
   "cell_type": "code",
   "execution_count": 13,
   "metadata": {},
   "outputs": [
    {
     "name": "stdout",
     "output_type": "stream",
     "text": [
      "68\n"
     ]
    }
   ],
   "source": [
    "print(len(col2keep_V))"
   ]
  },
  {
   "cell_type": "code",
   "execution_count": 14,
   "metadata": {},
   "outputs": [
    {
     "name": "stdout",
     "output_type": "stream",
     "text": [
      "Dropped column V18 with VIF: 14.4 (14s)\n",
      "Dropped column V11 with VIF: 13.2 (12s)\n",
      "Dropped column V16 with VIF: 12.2 (11s)\n",
      "Dropped column V30 with VIF: 10.8 (9s)\n",
      "Dropped column V43 with VIF: 10.0 (8s)\n",
      "Dropped column V28 with VIF: 9.5 (7s)\n",
      "Dropped column V62 with VIF: 8.9 (6s)\n",
      "Dropped column V49 with VIF: 8.1 (4s)\n",
      "Dropped column V38 with VIF: 8.0 (4s)\n",
      "Dropped column V52 with VIF: 5.9 (3s)\n",
      "Dropped column V95 with VIF: 222992.6 (15s)\n",
      "Dropped column V279 with VIF: 418.5 (14s)\n",
      "Dropped column V118 with VIF: 285.5 (12s)\n",
      "Dropped column V80 with VIF: 16.2 (11s)\n",
      "Dropped column V121 with VIF: 12.3 (9s)\n",
      "Dropped column V94 with VIF: 7.4 (8s)\n",
      "Dropped column V87 with VIF: 7.1 (7s)\n",
      "Dropped column V293 with VIF: 116.5 (13s)\n",
      "Dropped column V290 with VIF: 8.5 (12s)\n",
      "Dropped column V287 with VIF: 7.2 (11s)\n"
     ]
    }
   ],
   "source": [
    "col2keep_V1 = ['isFraud']\n",
    "\n",
    "df_V1_0to23 = df_sampled[col2keep_V[:23] + ['isFraud']]\n",
    "df_V1_24to46 = df_sampled[col2keep_V[23:46] + ['isFraud']]\n",
    "df_V1_46to68 = df_sampled[col2keep_V[46:] + ['isFraud']]\n",
    "\n",
    "col2keep_V1 += delete_multicollinearity(df_V1_0to23, 'isFraud', 5).columns.tolist()\n",
    "col2keep_V1 += delete_multicollinearity(df_V1_24to46, 'isFraud', 5).columns.tolist()\n",
    "col2keep_V1 += delete_multicollinearity(df_V1_46to68, 'isFraud', 5).columns.tolist()"
   ]
  },
  {
   "cell_type": "code",
   "execution_count": 15,
   "metadata": {},
   "outputs": [
    {
     "name": "stdout",
     "output_type": "stream",
     "text": [
      "48\n"
     ]
    }
   ],
   "source": [
    "print(len(col2keep_V1))"
   ]
  },
  {
   "cell_type": "code",
   "execution_count": 16,
   "metadata": {},
   "outputs": [
    {
     "name": "stdout",
     "output_type": "stream",
     "text": [
      "Dropped column V101 with VIF: 104.4 (96s)\n",
      "Dropped column V3 with VIF: 37.8 (90s)\n",
      "Dropped column V305 with VIF: 17.5 (84s)\n",
      "Dropped column V310 with VIF: 11.2 (81s)\n",
      "Dropped column V68 with VIF: 10.6 (76s)\n",
      "Dropped column V83 with VIF: 9.9 (71s)\n",
      "Dropped column V91 with VIF: 9.4 (66s)\n",
      "Dropped column V297 with VIF: 9.4 (62s)\n",
      "Dropped column V99 with VIF: 9.2 (58s)\n",
      "Dropped column V129 with VIF: 8.0 (55s)\n",
      "Dropped column V81 with VIF: 8.0 (50s)\n",
      "Dropped column V56 with VIF: 7.6 (47s)\n",
      "Dropped column V74 with VIF: 6.9 (44s)\n",
      "Dropped column V282 with VIF: 5.9 (44s)\n",
      "Dropped column V75 with VIF: 5.7 (38s)\n",
      "Dropped column V22 with VIF: 5.6 (42s)\n"
     ]
    }
   ],
   "source": [
    "col2keep += delete_multicollinearity(df_sampled[col2keep_V1], 'isFraud', 5).columns.tolist()"
   ]
  },
  {
   "cell_type": "code",
   "execution_count": 17,
   "metadata": {},
   "outputs": [
    {
     "name": "stdout",
     "output_type": "stream",
     "text": [
      "60\n",
      "['isFraud', 'card1', 'card2', 'card4_discover', 'card4_mastercard', 'card6_credit', 'card6_debit or credit', 'card6_nan', 'C3', 'C5', 'C7', 'C14', 'D1', 'D3', 'D4', 'D5', 'D10', 'D11', 'M3_T', 'M4_M1', 'M4_M2', 'M4_nan', 'M5_T', 'M6_T', 'M6_nan', 'M7_T', 'M7_nan', 'M8_T', 'M9_T', 'V12', 'V20', 'V33', 'V35', 'V40', 'V45', 'V53', 'V70', 'V78', 'V89', 'V98', 'V100', 'V104', 'V130', 'V135', 'V281', 'V283', 'V284', 'V285', 'V286', 'V288', 'V291', 'V296', 'V301', 'V303', 'V311', 'V312', 'V313', 'V314', 'V316', 'V319']\n"
     ]
    }
   ],
   "source": [
    "print(len(col2keep))\n",
    "print(col2keep)"
   ]
  },
  {
   "cell_type": "code",
   "execution_count": 18,
   "metadata": {},
   "outputs": [
    {
     "name": "stdout",
     "output_type": "stream",
     "text": [
      "Dropped column V135 with VIF: 8.9 (14s)\n",
      "Dropped column M4_nan with VIF: 8.7 (10s)\n",
      "Dropped column M7_nan with VIF: 7.5 (12s)\n",
      "Dropped column V12 with VIF: 5.5 (8s)\n",
      "Dropped column card2 with VIF: 5.4 (8s)\n",
      "Dropped column V33 with VIF: 5.3 (9s)\n"
     ]
    }
   ],
   "source": [
    "df_sampled = df_train_imputed.sample(frac=0.1, random_state=42)\n",
    "\n",
    "col2keep_final = ['isFraud'] + delete_multicollinearity(df_sampled[col2keep], 'isFraud', 5).columns.tolist()"
   ]
  },
  {
   "cell_type": "code",
   "execution_count": 19,
   "metadata": {},
   "outputs": [
    {
     "name": "stdout",
     "output_type": "stream",
     "text": [
      "54\n",
      "['isFraud', 'card1', 'card4_discover', 'card4_mastercard', 'card6_credit', 'card6_debit or credit', 'card6_nan', 'C3', 'C5', 'C7', 'C14', 'D1', 'D3', 'D4', 'D5', 'D10', 'D11', 'M3_T', 'M4_M1', 'M4_M2', 'M5_T', 'M6_T', 'M6_nan', 'M7_T', 'M8_T', 'M9_T', 'V20', 'V35', 'V40', 'V45', 'V53', 'V70', 'V78', 'V89', 'V98', 'V100', 'V104', 'V130', 'V281', 'V283', 'V284', 'V285', 'V286', 'V288', 'V291', 'V296', 'V301', 'V303', 'V311', 'V312', 'V313', 'V314', 'V316', 'V319']\n"
     ]
    }
   ],
   "source": [
    "print(len(col2keep_final))\n",
    "print(col2keep_final)"
   ]
  },
  {
   "cell_type": "code",
   "execution_count": 20,
   "metadata": {},
   "outputs": [],
   "source": [
    "df_train_final = df_train_imputed[col2keep_final]"
   ]
  },
  {
   "cell_type": "code",
   "execution_count": 21,
   "metadata": {},
   "outputs": [
    {
     "name": "stdout",
     "output_type": "stream",
     "text": [
      "Original train dataset shape Counter({0.0: 455895, 1.0: 16537})\n",
      "Resampled train dataset shape Counter({0.0: 455895, 1.0: 455120})\n"
     ]
    }
   ],
   "source": [
    "from collections import Counter\n",
    "from imblearn.over_sampling import ADASYN\n",
    "\n",
    "X_train, y_train = df_train_imputed.drop(columns=['isFraud']), df_train_imputed['isFraud']\n",
    "\n",
    "ada = ADASYN(random_state=42)\n",
    "X_train_res, y_train_res = ada.fit_resample(X_train, y_train)\n",
    "\n",
    "df_train_res = pd.concat([X_train_res, y_train_res], axis=1)\n",
    "\n",
    "print('Original train dataset shape {}'.format(Counter(y_train)))\n",
    "print('Resampled train dataset shape {}'.format(Counter(y_train_res)))"
   ]
  },
  {
   "cell_type": "code",
   "execution_count": 22,
   "metadata": {},
   "outputs": [],
   "source": [
    "df_train_res.to_csv('../data/data_preprocessed/data_fraud_train3.csv', index=False)\n",
    "df_dev[col2keep_final].to_csv('../data/data_preprocessed/data_fraud_dev3.csv', index=False)\n",
    "df_test[col2keep_final].to_csv('../data/data_preprocessed/data_fraud_test3.csv', index=False)"
   ]
  }
 ],
 "metadata": {
  "kernelspec": {
   "display_name": "ml_venv",
   "language": "python",
   "name": "python3"
  },
  "language_info": {
   "codemirror_mode": {
    "name": "ipython",
    "version": 3
   },
   "file_extension": ".py",
   "mimetype": "text/x-python",
   "name": "python",
   "nbconvert_exporter": "python",
   "pygments_lexer": "ipython3",
   "version": "3.9.18"
  }
 },
 "nbformat": 4,
 "nbformat_minor": 2
}
